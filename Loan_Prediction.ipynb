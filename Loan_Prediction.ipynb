{
  "nbformat": 4,
  "nbformat_minor": 0,
  "metadata": {
    "colab": {
      "provenance": [],
      "collapsed_sections": [],
      "authorship_tag": "ABX9TyNcgsmPh8jqg+7C0dooo0zA",
      "include_colab_link": true
    },
    "kernelspec": {
      "name": "python3",
      "display_name": "Python 3"
    },
    "language_info": {
      "name": "python"
    }
  },
  "cells": [
    {
      "cell_type": "markdown",
      "metadata": {
        "id": "view-in-github",
        "colab_type": "text"
      },
      "source": [
        "<a href=\"https://colab.research.google.com/github/disuja7/ML-Hub/blob/Loan_Prediction/Loan_Prediction.ipynb\" target=\"_parent\"><img src=\"https://colab.research.google.com/assets/colab-badge.svg\" alt=\"Open In Colab\"/></a>"
      ]
    },
    {
      "cell_type": "markdown",
      "source": [
        "# **Project Title: Loan Prediction**"
      ],
      "metadata": {
        "id": "Q62vceUlzeRH"
      }
    },
    {
      "cell_type": "markdown",
      "source": [
        "## **Problem statement**"
      ],
      "metadata": {
        "id": "aAFYVVt4zvHN"
      }
    },
    {
      "cell_type": "markdown",
      "source": [
        "In finance, loan approval is a crucial and important task to be performed before providing loan to any person. This insures that the loan approved can be recovered in future. However to identify a person is a good fit for the loan or a defaulter, it becomes very hard to identify the characters and features that will help to decide the same.\n",
        "\n",
        "Loan prediction model using Machine Learning becomes very usefull tool in these situation to predict the person is defaulter or not based on the past data.\n",
        "\n",
        "We have been given two datasets(train and test) containing the past transactions which includes some of the features of customers and a label which shows the customer was defaulter or not. We have built a model which can perform on train dataset and can identify the defaulters as accurately as possible on the test dataset."
      ],
      "metadata": {
        "id": "ncMeVxYdzyvS"
      }
    },
    {
      "cell_type": "markdown",
      "source": [
        "### **About Data:**\n",
        "\n",
        "![image.png](data:image/png;base64,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)"
      ],
      "metadata": {
        "id": "XSzke9x117yv"
      }
    },
    {
      "cell_type": "markdown",
      "source": [
        "# **Importing Libraries and Loading dataset**"
      ],
      "metadata": {
        "id": "JN-5tZwG2TkS"
      }
    },
    {
      "cell_type": "code",
      "execution_count": 39,
      "metadata": {
        "id": "jw-5BNt0y_4W"
      },
      "outputs": [],
      "source": [
        "#Impoting libraries\n",
        "import pandas as pd\n",
        "import numpy as np\n",
        "import matplotlib.pyplot as plt\n",
        "import seaborn as sns"
      ]
    },
    {
      "cell_type": "code",
      "source": [
        "df_train = pd.read_csv(\"/content/train_u6lujuX_CVtuZ9i.csv\")\n",
        "df_test = pd.read_csv(\"/content/test_Y3wMUE5_7gLdaTN.csv\")"
      ],
      "metadata": {
        "id": "Th-3zvgB2xz9"
      },
      "execution_count": 40,
      "outputs": []
    },
    {
      "cell_type": "code",
      "source": [
        "df_train.head()"
      ],
      "metadata": {
        "colab": {
          "base_uri": "https://localhost:8080/",
          "height": 287
        },
        "id": "LEv1-I6a3aJz",
        "outputId": "34d187df-ee67-4d9c-a908-5e15db51faa3"
      },
      "execution_count": 41,
      "outputs": [
        {
          "output_type": "execute_result",
          "data": {
            "text/plain": [
              "    Loan_ID Gender Married Dependents     Education Self_Employed  \\\n",
              "0  LP001002   Male      No          0      Graduate            No   \n",
              "1  LP001003   Male     Yes          1      Graduate            No   \n",
              "2  LP001005   Male     Yes          0      Graduate           Yes   \n",
              "3  LP001006   Male     Yes          0  Not Graduate            No   \n",
              "4  LP001008   Male      No          0      Graduate            No   \n",
              "\n",
              "   ApplicantIncome  CoapplicantIncome  LoanAmount  Loan_Amount_Term  \\\n",
              "0             5849                0.0         NaN             360.0   \n",
              "1             4583             1508.0       128.0             360.0   \n",
              "2             3000                0.0        66.0             360.0   \n",
              "3             2583             2358.0       120.0             360.0   \n",
              "4             6000                0.0       141.0             360.0   \n",
              "\n",
              "   Credit_History Property_Area Loan_Status  \n",
              "0             1.0         Urban           Y  \n",
              "1             1.0         Rural           N  \n",
              "2             1.0         Urban           Y  \n",
              "3             1.0         Urban           Y  \n",
              "4             1.0         Urban           Y  "
            ],
            "text/html": [
              "\n",
              "  <div id=\"df-fd66a0d7-ac3e-4674-a4f6-312979f50f8f\">\n",
              "    <div class=\"colab-df-container\">\n",
              "      <div>\n",
              "<style scoped>\n",
              "    .dataframe tbody tr th:only-of-type {\n",
              "        vertical-align: middle;\n",
              "    }\n",
              "\n",
              "    .dataframe tbody tr th {\n",
              "        vertical-align: top;\n",
              "    }\n",
              "\n",
              "    .dataframe thead th {\n",
              "        text-align: right;\n",
              "    }\n",
              "</style>\n",
              "<table border=\"1\" class=\"dataframe\">\n",
              "  <thead>\n",
              "    <tr style=\"text-align: right;\">\n",
              "      <th></th>\n",
              "      <th>Loan_ID</th>\n",
              "      <th>Gender</th>\n",
              "      <th>Married</th>\n",
              "      <th>Dependents</th>\n",
              "      <th>Education</th>\n",
              "      <th>Self_Employed</th>\n",
              "      <th>ApplicantIncome</th>\n",
              "      <th>CoapplicantIncome</th>\n",
              "      <th>LoanAmount</th>\n",
              "      <th>Loan_Amount_Term</th>\n",
              "      <th>Credit_History</th>\n",
              "      <th>Property_Area</th>\n",
              "      <th>Loan_Status</th>\n",
              "    </tr>\n",
              "  </thead>\n",
              "  <tbody>\n",
              "    <tr>\n",
              "      <th>0</th>\n",
              "      <td>LP001002</td>\n",
              "      <td>Male</td>\n",
              "      <td>No</td>\n",
              "      <td>0</td>\n",
              "      <td>Graduate</td>\n",
              "      <td>No</td>\n",
              "      <td>5849</td>\n",
              "      <td>0.0</td>\n",
              "      <td>NaN</td>\n",
              "      <td>360.0</td>\n",
              "      <td>1.0</td>\n",
              "      <td>Urban</td>\n",
              "      <td>Y</td>\n",
              "    </tr>\n",
              "    <tr>\n",
              "      <th>1</th>\n",
              "      <td>LP001003</td>\n",
              "      <td>Male</td>\n",
              "      <td>Yes</td>\n",
              "      <td>1</td>\n",
              "      <td>Graduate</td>\n",
              "      <td>No</td>\n",
              "      <td>4583</td>\n",
              "      <td>1508.0</td>\n",
              "      <td>128.0</td>\n",
              "      <td>360.0</td>\n",
              "      <td>1.0</td>\n",
              "      <td>Rural</td>\n",
              "      <td>N</td>\n",
              "    </tr>\n",
              "    <tr>\n",
              "      <th>2</th>\n",
              "      <td>LP001005</td>\n",
              "      <td>Male</td>\n",
              "      <td>Yes</td>\n",
              "      <td>0</td>\n",
              "      <td>Graduate</td>\n",
              "      <td>Yes</td>\n",
              "      <td>3000</td>\n",
              "      <td>0.0</td>\n",
              "      <td>66.0</td>\n",
              "      <td>360.0</td>\n",
              "      <td>1.0</td>\n",
              "      <td>Urban</td>\n",
              "      <td>Y</td>\n",
              "    </tr>\n",
              "    <tr>\n",
              "      <th>3</th>\n",
              "      <td>LP001006</td>\n",
              "      <td>Male</td>\n",
              "      <td>Yes</td>\n",
              "      <td>0</td>\n",
              "      <td>Not Graduate</td>\n",
              "      <td>No</td>\n",
              "      <td>2583</td>\n",
              "      <td>2358.0</td>\n",
              "      <td>120.0</td>\n",
              "      <td>360.0</td>\n",
              "      <td>1.0</td>\n",
              "      <td>Urban</td>\n",
              "      <td>Y</td>\n",
              "    </tr>\n",
              "    <tr>\n",
              "      <th>4</th>\n",
              "      <td>LP001008</td>\n",
              "      <td>Male</td>\n",
              "      <td>No</td>\n",
              "      <td>0</td>\n",
              "      <td>Graduate</td>\n",
              "      <td>No</td>\n",
              "      <td>6000</td>\n",
              "      <td>0.0</td>\n",
              "      <td>141.0</td>\n",
              "      <td>360.0</td>\n",
              "      <td>1.0</td>\n",
              "      <td>Urban</td>\n",
              "      <td>Y</td>\n",
              "    </tr>\n",
              "  </tbody>\n",
              "</table>\n",
              "</div>\n",
              "      <button class=\"colab-df-convert\" onclick=\"convertToInteractive('df-fd66a0d7-ac3e-4674-a4f6-312979f50f8f')\"\n",
              "              title=\"Convert this dataframe to an interactive table.\"\n",
              "              style=\"display:none;\">\n",
              "        \n",
              "  <svg xmlns=\"http://www.w3.org/2000/svg\" height=\"24px\"viewBox=\"0 0 24 24\"\n",
              "       width=\"24px\">\n",
              "    <path d=\"M0 0h24v24H0V0z\" fill=\"none\"/>\n",
              "    <path d=\"M18.56 5.44l.94 2.06.94-2.06 2.06-.94-2.06-.94-.94-2.06-.94 2.06-2.06.94zm-11 1L8.5 8.5l.94-2.06 2.06-.94-2.06-.94L8.5 2.5l-.94 2.06-2.06.94zm10 10l.94 2.06.94-2.06 2.06-.94-2.06-.94-.94-2.06-.94 2.06-2.06.94z\"/><path d=\"M17.41 7.96l-1.37-1.37c-.4-.4-.92-.59-1.43-.59-.52 0-1.04.2-1.43.59L10.3 9.45l-7.72 7.72c-.78.78-.78 2.05 0 2.83L4 21.41c.39.39.9.59 1.41.59.51 0 1.02-.2 1.41-.59l7.78-7.78 2.81-2.81c.8-.78.8-2.07 0-2.86zM5.41 20L4 18.59l7.72-7.72 1.47 1.35L5.41 20z\"/>\n",
              "  </svg>\n",
              "      </button>\n",
              "      \n",
              "  <style>\n",
              "    .colab-df-container {\n",
              "      display:flex;\n",
              "      flex-wrap:wrap;\n",
              "      gap: 12px;\n",
              "    }\n",
              "\n",
              "    .colab-df-convert {\n",
              "      background-color: #E8F0FE;\n",
              "      border: none;\n",
              "      border-radius: 50%;\n",
              "      cursor: pointer;\n",
              "      display: none;\n",
              "      fill: #1967D2;\n",
              "      height: 32px;\n",
              "      padding: 0 0 0 0;\n",
              "      width: 32px;\n",
              "    }\n",
              "\n",
              "    .colab-df-convert:hover {\n",
              "      background-color: #E2EBFA;\n",
              "      box-shadow: 0px 1px 2px rgba(60, 64, 67, 0.3), 0px 1px 3px 1px rgba(60, 64, 67, 0.15);\n",
              "      fill: #174EA6;\n",
              "    }\n",
              "\n",
              "    [theme=dark] .colab-df-convert {\n",
              "      background-color: #3B4455;\n",
              "      fill: #D2E3FC;\n",
              "    }\n",
              "\n",
              "    [theme=dark] .colab-df-convert:hover {\n",
              "      background-color: #434B5C;\n",
              "      box-shadow: 0px 1px 3px 1px rgba(0, 0, 0, 0.15);\n",
              "      filter: drop-shadow(0px 1px 2px rgba(0, 0, 0, 0.3));\n",
              "      fill: #FFFFFF;\n",
              "    }\n",
              "  </style>\n",
              "\n",
              "      <script>\n",
              "        const buttonEl =\n",
              "          document.querySelector('#df-fd66a0d7-ac3e-4674-a4f6-312979f50f8f button.colab-df-convert');\n",
              "        buttonEl.style.display =\n",
              "          google.colab.kernel.accessAllowed ? 'block' : 'none';\n",
              "\n",
              "        async function convertToInteractive(key) {\n",
              "          const element = document.querySelector('#df-fd66a0d7-ac3e-4674-a4f6-312979f50f8f');\n",
              "          const dataTable =\n",
              "            await google.colab.kernel.invokeFunction('convertToInteractive',\n",
              "                                                     [key], {});\n",
              "          if (!dataTable) return;\n",
              "\n",
              "          const docLinkHtml = 'Like what you see? Visit the ' +\n",
              "            '<a target=\"_blank\" href=https://colab.research.google.com/notebooks/data_table.ipynb>data table notebook</a>'\n",
              "            + ' to learn more about interactive tables.';\n",
              "          element.innerHTML = '';\n",
              "          dataTable['output_type'] = 'display_data';\n",
              "          await google.colab.output.renderOutput(dataTable, element);\n",
              "          const docLink = document.createElement('div');\n",
              "          docLink.innerHTML = docLinkHtml;\n",
              "          element.appendChild(docLink);\n",
              "        }\n",
              "      </script>\n",
              "    </div>\n",
              "  </div>\n",
              "  "
            ]
          },
          "metadata": {},
          "execution_count": 41
        }
      ]
    },
    {
      "cell_type": "code",
      "source": [
        "df_test.head()"
      ],
      "metadata": {
        "colab": {
          "base_uri": "https://localhost:8080/",
          "height": 250
        },
        "id": "g5fQ9Rff3bhZ",
        "outputId": "7dfaaca5-2ce3-42d5-a22b-d3da60f739a8"
      },
      "execution_count": 42,
      "outputs": [
        {
          "output_type": "execute_result",
          "data": {
            "text/plain": [
              "    Loan_ID Gender Married Dependents     Education Self_Employed  \\\n",
              "0  LP001015   Male     Yes          0      Graduate            No   \n",
              "1  LP001022   Male     Yes          1      Graduate            No   \n",
              "2  LP001031   Male     Yes          2      Graduate            No   \n",
              "3  LP001035   Male     Yes          2      Graduate            No   \n",
              "4  LP001051   Male      No          0  Not Graduate            No   \n",
              "\n",
              "   ApplicantIncome  CoapplicantIncome  LoanAmount  Loan_Amount_Term  \\\n",
              "0             5720                  0       110.0             360.0   \n",
              "1             3076               1500       126.0             360.0   \n",
              "2             5000               1800       208.0             360.0   \n",
              "3             2340               2546       100.0             360.0   \n",
              "4             3276                  0        78.0             360.0   \n",
              "\n",
              "   Credit_History Property_Area  \n",
              "0             1.0         Urban  \n",
              "1             1.0         Urban  \n",
              "2             1.0         Urban  \n",
              "3             NaN         Urban  \n",
              "4             1.0         Urban  "
            ],
            "text/html": [
              "\n",
              "  <div id=\"df-b6fccc54-4f2f-41fc-ae61-bd3e0d0919a5\">\n",
              "    <div class=\"colab-df-container\">\n",
              "      <div>\n",
              "<style scoped>\n",
              "    .dataframe tbody tr th:only-of-type {\n",
              "        vertical-align: middle;\n",
              "    }\n",
              "\n",
              "    .dataframe tbody tr th {\n",
              "        vertical-align: top;\n",
              "    }\n",
              "\n",
              "    .dataframe thead th {\n",
              "        text-align: right;\n",
              "    }\n",
              "</style>\n",
              "<table border=\"1\" class=\"dataframe\">\n",
              "  <thead>\n",
              "    <tr style=\"text-align: right;\">\n",
              "      <th></th>\n",
              "      <th>Loan_ID</th>\n",
              "      <th>Gender</th>\n",
              "      <th>Married</th>\n",
              "      <th>Dependents</th>\n",
              "      <th>Education</th>\n",
              "      <th>Self_Employed</th>\n",
              "      <th>ApplicantIncome</th>\n",
              "      <th>CoapplicantIncome</th>\n",
              "      <th>LoanAmount</th>\n",
              "      <th>Loan_Amount_Term</th>\n",
              "      <th>Credit_History</th>\n",
              "      <th>Property_Area</th>\n",
              "    </tr>\n",
              "  </thead>\n",
              "  <tbody>\n",
              "    <tr>\n",
              "      <th>0</th>\n",
              "      <td>LP001015</td>\n",
              "      <td>Male</td>\n",
              "      <td>Yes</td>\n",
              "      <td>0</td>\n",
              "      <td>Graduate</td>\n",
              "      <td>No</td>\n",
              "      <td>5720</td>\n",
              "      <td>0</td>\n",
              "      <td>110.0</td>\n",
              "      <td>360.0</td>\n",
              "      <td>1.0</td>\n",
              "      <td>Urban</td>\n",
              "    </tr>\n",
              "    <tr>\n",
              "      <th>1</th>\n",
              "      <td>LP001022</td>\n",
              "      <td>Male</td>\n",
              "      <td>Yes</td>\n",
              "      <td>1</td>\n",
              "      <td>Graduate</td>\n",
              "      <td>No</td>\n",
              "      <td>3076</td>\n",
              "      <td>1500</td>\n",
              "      <td>126.0</td>\n",
              "      <td>360.0</td>\n",
              "      <td>1.0</td>\n",
              "      <td>Urban</td>\n",
              "    </tr>\n",
              "    <tr>\n",
              "      <th>2</th>\n",
              "      <td>LP001031</td>\n",
              "      <td>Male</td>\n",
              "      <td>Yes</td>\n",
              "      <td>2</td>\n",
              "      <td>Graduate</td>\n",
              "      <td>No</td>\n",
              "      <td>5000</td>\n",
              "      <td>1800</td>\n",
              "      <td>208.0</td>\n",
              "      <td>360.0</td>\n",
              "      <td>1.0</td>\n",
              "      <td>Urban</td>\n",
              "    </tr>\n",
              "    <tr>\n",
              "      <th>3</th>\n",
              "      <td>LP001035</td>\n",
              "      <td>Male</td>\n",
              "      <td>Yes</td>\n",
              "      <td>2</td>\n",
              "      <td>Graduate</td>\n",
              "      <td>No</td>\n",
              "      <td>2340</td>\n",
              "      <td>2546</td>\n",
              "      <td>100.0</td>\n",
              "      <td>360.0</td>\n",
              "      <td>NaN</td>\n",
              "      <td>Urban</td>\n",
              "    </tr>\n",
              "    <tr>\n",
              "      <th>4</th>\n",
              "      <td>LP001051</td>\n",
              "      <td>Male</td>\n",
              "      <td>No</td>\n",
              "      <td>0</td>\n",
              "      <td>Not Graduate</td>\n",
              "      <td>No</td>\n",
              "      <td>3276</td>\n",
              "      <td>0</td>\n",
              "      <td>78.0</td>\n",
              "      <td>360.0</td>\n",
              "      <td>1.0</td>\n",
              "      <td>Urban</td>\n",
              "    </tr>\n",
              "  </tbody>\n",
              "</table>\n",
              "</div>\n",
              "      <button class=\"colab-df-convert\" onclick=\"convertToInteractive('df-b6fccc54-4f2f-41fc-ae61-bd3e0d0919a5')\"\n",
              "              title=\"Convert this dataframe to an interactive table.\"\n",
              "              style=\"display:none;\">\n",
              "        \n",
              "  <svg xmlns=\"http://www.w3.org/2000/svg\" height=\"24px\"viewBox=\"0 0 24 24\"\n",
              "       width=\"24px\">\n",
              "    <path d=\"M0 0h24v24H0V0z\" fill=\"none\"/>\n",
              "    <path d=\"M18.56 5.44l.94 2.06.94-2.06 2.06-.94-2.06-.94-.94-2.06-.94 2.06-2.06.94zm-11 1L8.5 8.5l.94-2.06 2.06-.94-2.06-.94L8.5 2.5l-.94 2.06-2.06.94zm10 10l.94 2.06.94-2.06 2.06-.94-2.06-.94-.94-2.06-.94 2.06-2.06.94z\"/><path d=\"M17.41 7.96l-1.37-1.37c-.4-.4-.92-.59-1.43-.59-.52 0-1.04.2-1.43.59L10.3 9.45l-7.72 7.72c-.78.78-.78 2.05 0 2.83L4 21.41c.39.39.9.59 1.41.59.51 0 1.02-.2 1.41-.59l7.78-7.78 2.81-2.81c.8-.78.8-2.07 0-2.86zM5.41 20L4 18.59l7.72-7.72 1.47 1.35L5.41 20z\"/>\n",
              "  </svg>\n",
              "      </button>\n",
              "      \n",
              "  <style>\n",
              "    .colab-df-container {\n",
              "      display:flex;\n",
              "      flex-wrap:wrap;\n",
              "      gap: 12px;\n",
              "    }\n",
              "\n",
              "    .colab-df-convert {\n",
              "      background-color: #E8F0FE;\n",
              "      border: none;\n",
              "      border-radius: 50%;\n",
              "      cursor: pointer;\n",
              "      display: none;\n",
              "      fill: #1967D2;\n",
              "      height: 32px;\n",
              "      padding: 0 0 0 0;\n",
              "      width: 32px;\n",
              "    }\n",
              "\n",
              "    .colab-df-convert:hover {\n",
              "      background-color: #E2EBFA;\n",
              "      box-shadow: 0px 1px 2px rgba(60, 64, 67, 0.3), 0px 1px 3px 1px rgba(60, 64, 67, 0.15);\n",
              "      fill: #174EA6;\n",
              "    }\n",
              "\n",
              "    [theme=dark] .colab-df-convert {\n",
              "      background-color: #3B4455;\n",
              "      fill: #D2E3FC;\n",
              "    }\n",
              "\n",
              "    [theme=dark] .colab-df-convert:hover {\n",
              "      background-color: #434B5C;\n",
              "      box-shadow: 0px 1px 3px 1px rgba(0, 0, 0, 0.15);\n",
              "      filter: drop-shadow(0px 1px 2px rgba(0, 0, 0, 0.3));\n",
              "      fill: #FFFFFF;\n",
              "    }\n",
              "  </style>\n",
              "\n",
              "      <script>\n",
              "        const buttonEl =\n",
              "          document.querySelector('#df-b6fccc54-4f2f-41fc-ae61-bd3e0d0919a5 button.colab-df-convert');\n",
              "        buttonEl.style.display =\n",
              "          google.colab.kernel.accessAllowed ? 'block' : 'none';\n",
              "\n",
              "        async function convertToInteractive(key) {\n",
              "          const element = document.querySelector('#df-b6fccc54-4f2f-41fc-ae61-bd3e0d0919a5');\n",
              "          const dataTable =\n",
              "            await google.colab.kernel.invokeFunction('convertToInteractive',\n",
              "                                                     [key], {});\n",
              "          if (!dataTable) return;\n",
              "\n",
              "          const docLinkHtml = 'Like what you see? Visit the ' +\n",
              "            '<a target=\"_blank\" href=https://colab.research.google.com/notebooks/data_table.ipynb>data table notebook</a>'\n",
              "            + ' to learn more about interactive tables.';\n",
              "          element.innerHTML = '';\n",
              "          dataTable['output_type'] = 'display_data';\n",
              "          await google.colab.output.renderOutput(dataTable, element);\n",
              "          const docLink = document.createElement('div');\n",
              "          docLink.innerHTML = docLinkHtml;\n",
              "          element.appendChild(docLink);\n",
              "        }\n",
              "      </script>\n",
              "    </div>\n",
              "  </div>\n",
              "  "
            ]
          },
          "metadata": {},
          "execution_count": 42
        }
      ]
    },
    {
      "cell_type": "code",
      "source": [
        "#shape of data\n",
        "df_train.shape"
      ],
      "metadata": {
        "colab": {
          "base_uri": "https://localhost:8080/"
        },
        "id": "lhFUDBlD3dX3",
        "outputId": "52079f97-7c44-45b5-b4bf-bdaf9ee8aa91"
      },
      "execution_count": 43,
      "outputs": [
        {
          "output_type": "execute_result",
          "data": {
            "text/plain": [
              "(614, 13)"
            ]
          },
          "metadata": {},
          "execution_count": 43
        }
      ]
    },
    {
      "cell_type": "code",
      "source": [
        "#data summary\n",
        "df_train.describe()"
      ],
      "metadata": {
        "colab": {
          "base_uri": "https://localhost:8080/",
          "height": 300
        },
        "id": "3cAvak6839g-",
        "outputId": "33d7ef0a-aff1-468b-a13c-1cbe8e543f76"
      },
      "execution_count": 44,
      "outputs": [
        {
          "output_type": "execute_result",
          "data": {
            "text/plain": [
              "       ApplicantIncome  CoapplicantIncome  LoanAmount  Loan_Amount_Term  \\\n",
              "count       614.000000         614.000000  592.000000         600.00000   \n",
              "mean       5403.459283        1621.245798  146.412162         342.00000   \n",
              "std        6109.041673        2926.248369   85.587325          65.12041   \n",
              "min         150.000000           0.000000    9.000000          12.00000   \n",
              "25%        2877.500000           0.000000  100.000000         360.00000   \n",
              "50%        3812.500000        1188.500000  128.000000         360.00000   \n",
              "75%        5795.000000        2297.250000  168.000000         360.00000   \n",
              "max       81000.000000       41667.000000  700.000000         480.00000   \n",
              "\n",
              "       Credit_History  \n",
              "count      564.000000  \n",
              "mean         0.842199  \n",
              "std          0.364878  \n",
              "min          0.000000  \n",
              "25%          1.000000  \n",
              "50%          1.000000  \n",
              "75%          1.000000  \n",
              "max          1.000000  "
            ],
            "text/html": [
              "\n",
              "  <div id=\"df-5a36d2c9-dd93-4e98-8789-ce017d1e58b7\">\n",
              "    <div class=\"colab-df-container\">\n",
              "      <div>\n",
              "<style scoped>\n",
              "    .dataframe tbody tr th:only-of-type {\n",
              "        vertical-align: middle;\n",
              "    }\n",
              "\n",
              "    .dataframe tbody tr th {\n",
              "        vertical-align: top;\n",
              "    }\n",
              "\n",
              "    .dataframe thead th {\n",
              "        text-align: right;\n",
              "    }\n",
              "</style>\n",
              "<table border=\"1\" class=\"dataframe\">\n",
              "  <thead>\n",
              "    <tr style=\"text-align: right;\">\n",
              "      <th></th>\n",
              "      <th>ApplicantIncome</th>\n",
              "      <th>CoapplicantIncome</th>\n",
              "      <th>LoanAmount</th>\n",
              "      <th>Loan_Amount_Term</th>\n",
              "      <th>Credit_History</th>\n",
              "    </tr>\n",
              "  </thead>\n",
              "  <tbody>\n",
              "    <tr>\n",
              "      <th>count</th>\n",
              "      <td>614.000000</td>\n",
              "      <td>614.000000</td>\n",
              "      <td>592.000000</td>\n",
              "      <td>600.00000</td>\n",
              "      <td>564.000000</td>\n",
              "    </tr>\n",
              "    <tr>\n",
              "      <th>mean</th>\n",
              "      <td>5403.459283</td>\n",
              "      <td>1621.245798</td>\n",
              "      <td>146.412162</td>\n",
              "      <td>342.00000</td>\n",
              "      <td>0.842199</td>\n",
              "    </tr>\n",
              "    <tr>\n",
              "      <th>std</th>\n",
              "      <td>6109.041673</td>\n",
              "      <td>2926.248369</td>\n",
              "      <td>85.587325</td>\n",
              "      <td>65.12041</td>\n",
              "      <td>0.364878</td>\n",
              "    </tr>\n",
              "    <tr>\n",
              "      <th>min</th>\n",
              "      <td>150.000000</td>\n",
              "      <td>0.000000</td>\n",
              "      <td>9.000000</td>\n",
              "      <td>12.00000</td>\n",
              "      <td>0.000000</td>\n",
              "    </tr>\n",
              "    <tr>\n",
              "      <th>25%</th>\n",
              "      <td>2877.500000</td>\n",
              "      <td>0.000000</td>\n",
              "      <td>100.000000</td>\n",
              "      <td>360.00000</td>\n",
              "      <td>1.000000</td>\n",
              "    </tr>\n",
              "    <tr>\n",
              "      <th>50%</th>\n",
              "      <td>3812.500000</td>\n",
              "      <td>1188.500000</td>\n",
              "      <td>128.000000</td>\n",
              "      <td>360.00000</td>\n",
              "      <td>1.000000</td>\n",
              "    </tr>\n",
              "    <tr>\n",
              "      <th>75%</th>\n",
              "      <td>5795.000000</td>\n",
              "      <td>2297.250000</td>\n",
              "      <td>168.000000</td>\n",
              "      <td>360.00000</td>\n",
              "      <td>1.000000</td>\n",
              "    </tr>\n",
              "    <tr>\n",
              "      <th>max</th>\n",
              "      <td>81000.000000</td>\n",
              "      <td>41667.000000</td>\n",
              "      <td>700.000000</td>\n",
              "      <td>480.00000</td>\n",
              "      <td>1.000000</td>\n",
              "    </tr>\n",
              "  </tbody>\n",
              "</table>\n",
              "</div>\n",
              "      <button class=\"colab-df-convert\" onclick=\"convertToInteractive('df-5a36d2c9-dd93-4e98-8789-ce017d1e58b7')\"\n",
              "              title=\"Convert this dataframe to an interactive table.\"\n",
              "              style=\"display:none;\">\n",
              "        \n",
              "  <svg xmlns=\"http://www.w3.org/2000/svg\" height=\"24px\"viewBox=\"0 0 24 24\"\n",
              "       width=\"24px\">\n",
              "    <path d=\"M0 0h24v24H0V0z\" fill=\"none\"/>\n",
              "    <path d=\"M18.56 5.44l.94 2.06.94-2.06 2.06-.94-2.06-.94-.94-2.06-.94 2.06-2.06.94zm-11 1L8.5 8.5l.94-2.06 2.06-.94-2.06-.94L8.5 2.5l-.94 2.06-2.06.94zm10 10l.94 2.06.94-2.06 2.06-.94-2.06-.94-.94-2.06-.94 2.06-2.06.94z\"/><path d=\"M17.41 7.96l-1.37-1.37c-.4-.4-.92-.59-1.43-.59-.52 0-1.04.2-1.43.59L10.3 9.45l-7.72 7.72c-.78.78-.78 2.05 0 2.83L4 21.41c.39.39.9.59 1.41.59.51 0 1.02-.2 1.41-.59l7.78-7.78 2.81-2.81c.8-.78.8-2.07 0-2.86zM5.41 20L4 18.59l7.72-7.72 1.47 1.35L5.41 20z\"/>\n",
              "  </svg>\n",
              "      </button>\n",
              "      \n",
              "  <style>\n",
              "    .colab-df-container {\n",
              "      display:flex;\n",
              "      flex-wrap:wrap;\n",
              "      gap: 12px;\n",
              "    }\n",
              "\n",
              "    .colab-df-convert {\n",
              "      background-color: #E8F0FE;\n",
              "      border: none;\n",
              "      border-radius: 50%;\n",
              "      cursor: pointer;\n",
              "      display: none;\n",
              "      fill: #1967D2;\n",
              "      height: 32px;\n",
              "      padding: 0 0 0 0;\n",
              "      width: 32px;\n",
              "    }\n",
              "\n",
              "    .colab-df-convert:hover {\n",
              "      background-color: #E2EBFA;\n",
              "      box-shadow: 0px 1px 2px rgba(60, 64, 67, 0.3), 0px 1px 3px 1px rgba(60, 64, 67, 0.15);\n",
              "      fill: #174EA6;\n",
              "    }\n",
              "\n",
              "    [theme=dark] .colab-df-convert {\n",
              "      background-color: #3B4455;\n",
              "      fill: #D2E3FC;\n",
              "    }\n",
              "\n",
              "    [theme=dark] .colab-df-convert:hover {\n",
              "      background-color: #434B5C;\n",
              "      box-shadow: 0px 1px 3px 1px rgba(0, 0, 0, 0.15);\n",
              "      filter: drop-shadow(0px 1px 2px rgba(0, 0, 0, 0.3));\n",
              "      fill: #FFFFFF;\n",
              "    }\n",
              "  </style>\n",
              "\n",
              "      <script>\n",
              "        const buttonEl =\n",
              "          document.querySelector('#df-5a36d2c9-dd93-4e98-8789-ce017d1e58b7 button.colab-df-convert');\n",
              "        buttonEl.style.display =\n",
              "          google.colab.kernel.accessAllowed ? 'block' : 'none';\n",
              "\n",
              "        async function convertToInteractive(key) {\n",
              "          const element = document.querySelector('#df-5a36d2c9-dd93-4e98-8789-ce017d1e58b7');\n",
              "          const dataTable =\n",
              "            await google.colab.kernel.invokeFunction('convertToInteractive',\n",
              "                                                     [key], {});\n",
              "          if (!dataTable) return;\n",
              "\n",
              "          const docLinkHtml = 'Like what you see? Visit the ' +\n",
              "            '<a target=\"_blank\" href=https://colab.research.google.com/notebooks/data_table.ipynb>data table notebook</a>'\n",
              "            + ' to learn more about interactive tables.';\n",
              "          element.innerHTML = '';\n",
              "          dataTable['output_type'] = 'display_data';\n",
              "          await google.colab.output.renderOutput(dataTable, element);\n",
              "          const docLink = document.createElement('div');\n",
              "          docLink.innerHTML = docLinkHtml;\n",
              "          element.appendChild(docLink);\n",
              "        }\n",
              "      </script>\n",
              "    </div>\n",
              "  </div>\n",
              "  "
            ]
          },
          "metadata": {},
          "execution_count": 44
        }
      ]
    },
    {
      "cell_type": "code",
      "source": [
        "df_train.info()"
      ],
      "metadata": {
        "colab": {
          "base_uri": "https://localhost:8080/"
        },
        "id": "M0ZyjDyd4CHc",
        "outputId": "b8d6eb0a-7201-4033-cb85-1c3a3cdf6b9a"
      },
      "execution_count": 45,
      "outputs": [
        {
          "output_type": "stream",
          "name": "stdout",
          "text": [
            "<class 'pandas.core.frame.DataFrame'>\n",
            "RangeIndex: 614 entries, 0 to 613\n",
            "Data columns (total 13 columns):\n",
            " #   Column             Non-Null Count  Dtype  \n",
            "---  ------             --------------  -----  \n",
            " 0   Loan_ID            614 non-null    object \n",
            " 1   Gender             601 non-null    object \n",
            " 2   Married            611 non-null    object \n",
            " 3   Dependents         599 non-null    object \n",
            " 4   Education          614 non-null    object \n",
            " 5   Self_Employed      582 non-null    object \n",
            " 6   ApplicantIncome    614 non-null    int64  \n",
            " 7   CoapplicantIncome  614 non-null    float64\n",
            " 8   LoanAmount         592 non-null    float64\n",
            " 9   Loan_Amount_Term   600 non-null    float64\n",
            " 10  Credit_History     564 non-null    float64\n",
            " 11  Property_Area      614 non-null    object \n",
            " 12  Loan_Status        614 non-null    object \n",
            "dtypes: float64(4), int64(1), object(8)\n",
            "memory usage: 62.5+ KB\n"
          ]
        }
      ]
    },
    {
      "cell_type": "markdown",
      "source": [
        "#**Data cleaning**"
      ],
      "metadata": {
        "id": "CMhHBm5I9pBz"
      }
    },
    {
      "cell_type": "code",
      "source": [
        "#checking for any null values\n",
        "df_train.isna().sum()"
      ],
      "metadata": {
        "colab": {
          "base_uri": "https://localhost:8080/"
        },
        "id": "PR9jIo8T4PEf",
        "outputId": "0d77b818-9dad-497c-b89d-0e5399d8c91e"
      },
      "execution_count": 46,
      "outputs": [
        {
          "output_type": "execute_result",
          "data": {
            "text/plain": [
              "Loan_ID               0\n",
              "Gender               13\n",
              "Married               3\n",
              "Dependents           15\n",
              "Education             0\n",
              "Self_Employed        32\n",
              "ApplicantIncome       0\n",
              "CoapplicantIncome     0\n",
              "LoanAmount           22\n",
              "Loan_Amount_Term     14\n",
              "Credit_History       50\n",
              "Property_Area         0\n",
              "Loan_Status           0\n",
              "dtype: int64"
            ]
          },
          "metadata": {},
          "execution_count": 46
        }
      ]
    },
    {
      "cell_type": "markdown",
      "source": [
        "So we have a lot of null values, having maximum of 50 for Credit_History."
      ],
      "metadata": {
        "id": "IXMDZptU49PL"
      }
    },
    {
      "cell_type": "markdown",
      "source": [
        "**Dropping all the null values**"
      ],
      "metadata": {
        "id": "WLEuR3Gi5YA2"
      }
    },
    {
      "cell_type": "code",
      "source": [
        "# Dropping all the null values\n",
        "drop_list = ['Gender','Married','Dependents','Self_Employed','LoanAmount','Loan_Amount_Term','Credit_History']\n",
        "for col in drop_list:\n",
        " df_train = df_train[~df_train[col].isna()]"
      ],
      "metadata": {
        "id": "8COJrLoM5S9P"
      },
      "execution_count": 47,
      "outputs": []
    },
    {
      "cell_type": "code",
      "source": [
        "df_train.isna().sum()"
      ],
      "metadata": {
        "colab": {
          "base_uri": "https://localhost:8080/"
        },
        "id": "BS8vqmgL54IN",
        "outputId": "103db36b-7b06-475e-e582-652f0e6b94ec"
      },
      "execution_count": 48,
      "outputs": [
        {
          "output_type": "execute_result",
          "data": {
            "text/plain": [
              "Loan_ID              0\n",
              "Gender               0\n",
              "Married              0\n",
              "Dependents           0\n",
              "Education            0\n",
              "Self_Employed        0\n",
              "ApplicantIncome      0\n",
              "CoapplicantIncome    0\n",
              "LoanAmount           0\n",
              "Loan_Amount_Term     0\n",
              "Credit_History       0\n",
              "Property_Area        0\n",
              "Loan_Status          0\n",
              "dtype: int64"
            ]
          },
          "metadata": {},
          "execution_count": 48
        }
      ]
    },
    {
      "cell_type": "markdown",
      "source": [
        "we have dropped all the null values."
      ],
      "metadata": {
        "id": "_cG3zjJw8Y-e"
      }
    },
    {
      "cell_type": "markdown",
      "source": [
        "Since the column Loan_ID is of no use, we will drop this."
      ],
      "metadata": {
        "id": "qwjnf8t6_oPn"
      }
    },
    {
      "cell_type": "code",
      "source": [
        "# dropping Loan_ID\n",
        "df_train.drop(columns='Loan_ID',axis=1, inplace=True)"
      ],
      "metadata": {
        "id": "fwT6s5E9_wxQ"
      },
      "execution_count": 49,
      "outputs": []
    },
    {
      "cell_type": "code",
      "source": [
        "df_train.shape"
      ],
      "metadata": {
        "colab": {
          "base_uri": "https://localhost:8080/"
        },
        "id": "bKCTYWCc8mGs",
        "outputId": "c9d4fd41-47e8-4143-badc-d2c9b4e87476"
      },
      "execution_count": 50,
      "outputs": [
        {
          "output_type": "execute_result",
          "data": {
            "text/plain": [
              "(480, 12)"
            ]
          },
          "metadata": {},
          "execution_count": 50
        }
      ]
    },
    {
      "cell_type": "code",
      "source": [
        "#data summary\n",
        "df_train.describe()"
      ],
      "metadata": {
        "colab": {
          "base_uri": "https://localhost:8080/",
          "height": 300
        },
        "id": "e72-mF5U57ps",
        "outputId": "561e969e-f163-4022-d10d-9ca4991e8081"
      },
      "execution_count": 51,
      "outputs": [
        {
          "output_type": "execute_result",
          "data": {
            "text/plain": [
              "       ApplicantIncome  CoapplicantIncome  LoanAmount  Loan_Amount_Term  \\\n",
              "count       480.000000         480.000000  480.000000        480.000000   \n",
              "mean       5364.231250        1581.093583  144.735417        342.050000   \n",
              "std        5668.251251        2617.692267   80.508164         65.212401   \n",
              "min         150.000000           0.000000    9.000000         36.000000   \n",
              "25%        2898.750000           0.000000  100.000000        360.000000   \n",
              "50%        3859.000000        1084.500000  128.000000        360.000000   \n",
              "75%        5852.500000        2253.250000  170.000000        360.000000   \n",
              "max       81000.000000       33837.000000  600.000000        480.000000   \n",
              "\n",
              "       Credit_History  \n",
              "count      480.000000  \n",
              "mean         0.854167  \n",
              "std          0.353307  \n",
              "min          0.000000  \n",
              "25%          1.000000  \n",
              "50%          1.000000  \n",
              "75%          1.000000  \n",
              "max          1.000000  "
            ],
            "text/html": [
              "\n",
              "  <div id=\"df-c996fb19-984b-47fd-b9f8-95b0e8c116ce\">\n",
              "    <div class=\"colab-df-container\">\n",
              "      <div>\n",
              "<style scoped>\n",
              "    .dataframe tbody tr th:only-of-type {\n",
              "        vertical-align: middle;\n",
              "    }\n",
              "\n",
              "    .dataframe tbody tr th {\n",
              "        vertical-align: top;\n",
              "    }\n",
              "\n",
              "    .dataframe thead th {\n",
              "        text-align: right;\n",
              "    }\n",
              "</style>\n",
              "<table border=\"1\" class=\"dataframe\">\n",
              "  <thead>\n",
              "    <tr style=\"text-align: right;\">\n",
              "      <th></th>\n",
              "      <th>ApplicantIncome</th>\n",
              "      <th>CoapplicantIncome</th>\n",
              "      <th>LoanAmount</th>\n",
              "      <th>Loan_Amount_Term</th>\n",
              "      <th>Credit_History</th>\n",
              "    </tr>\n",
              "  </thead>\n",
              "  <tbody>\n",
              "    <tr>\n",
              "      <th>count</th>\n",
              "      <td>480.000000</td>\n",
              "      <td>480.000000</td>\n",
              "      <td>480.000000</td>\n",
              "      <td>480.000000</td>\n",
              "      <td>480.000000</td>\n",
              "    </tr>\n",
              "    <tr>\n",
              "      <th>mean</th>\n",
              "      <td>5364.231250</td>\n",
              "      <td>1581.093583</td>\n",
              "      <td>144.735417</td>\n",
              "      <td>342.050000</td>\n",
              "      <td>0.854167</td>\n",
              "    </tr>\n",
              "    <tr>\n",
              "      <th>std</th>\n",
              "      <td>5668.251251</td>\n",
              "      <td>2617.692267</td>\n",
              "      <td>80.508164</td>\n",
              "      <td>65.212401</td>\n",
              "      <td>0.353307</td>\n",
              "    </tr>\n",
              "    <tr>\n",
              "      <th>min</th>\n",
              "      <td>150.000000</td>\n",
              "      <td>0.000000</td>\n",
              "      <td>9.000000</td>\n",
              "      <td>36.000000</td>\n",
              "      <td>0.000000</td>\n",
              "    </tr>\n",
              "    <tr>\n",
              "      <th>25%</th>\n",
              "      <td>2898.750000</td>\n",
              "      <td>0.000000</td>\n",
              "      <td>100.000000</td>\n",
              "      <td>360.000000</td>\n",
              "      <td>1.000000</td>\n",
              "    </tr>\n",
              "    <tr>\n",
              "      <th>50%</th>\n",
              "      <td>3859.000000</td>\n",
              "      <td>1084.500000</td>\n",
              "      <td>128.000000</td>\n",
              "      <td>360.000000</td>\n",
              "      <td>1.000000</td>\n",
              "    </tr>\n",
              "    <tr>\n",
              "      <th>75%</th>\n",
              "      <td>5852.500000</td>\n",
              "      <td>2253.250000</td>\n",
              "      <td>170.000000</td>\n",
              "      <td>360.000000</td>\n",
              "      <td>1.000000</td>\n",
              "    </tr>\n",
              "    <tr>\n",
              "      <th>max</th>\n",
              "      <td>81000.000000</td>\n",
              "      <td>33837.000000</td>\n",
              "      <td>600.000000</td>\n",
              "      <td>480.000000</td>\n",
              "      <td>1.000000</td>\n",
              "    </tr>\n",
              "  </tbody>\n",
              "</table>\n",
              "</div>\n",
              "      <button class=\"colab-df-convert\" onclick=\"convertToInteractive('df-c996fb19-984b-47fd-b9f8-95b0e8c116ce')\"\n",
              "              title=\"Convert this dataframe to an interactive table.\"\n",
              "              style=\"display:none;\">\n",
              "        \n",
              "  <svg xmlns=\"http://www.w3.org/2000/svg\" height=\"24px\"viewBox=\"0 0 24 24\"\n",
              "       width=\"24px\">\n",
              "    <path d=\"M0 0h24v24H0V0z\" fill=\"none\"/>\n",
              "    <path d=\"M18.56 5.44l.94 2.06.94-2.06 2.06-.94-2.06-.94-.94-2.06-.94 2.06-2.06.94zm-11 1L8.5 8.5l.94-2.06 2.06-.94-2.06-.94L8.5 2.5l-.94 2.06-2.06.94zm10 10l.94 2.06.94-2.06 2.06-.94-2.06-.94-.94-2.06-.94 2.06-2.06.94z\"/><path d=\"M17.41 7.96l-1.37-1.37c-.4-.4-.92-.59-1.43-.59-.52 0-1.04.2-1.43.59L10.3 9.45l-7.72 7.72c-.78.78-.78 2.05 0 2.83L4 21.41c.39.39.9.59 1.41.59.51 0 1.02-.2 1.41-.59l7.78-7.78 2.81-2.81c.8-.78.8-2.07 0-2.86zM5.41 20L4 18.59l7.72-7.72 1.47 1.35L5.41 20z\"/>\n",
              "  </svg>\n",
              "      </button>\n",
              "      \n",
              "  <style>\n",
              "    .colab-df-container {\n",
              "      display:flex;\n",
              "      flex-wrap:wrap;\n",
              "      gap: 12px;\n",
              "    }\n",
              "\n",
              "    .colab-df-convert {\n",
              "      background-color: #E8F0FE;\n",
              "      border: none;\n",
              "      border-radius: 50%;\n",
              "      cursor: pointer;\n",
              "      display: none;\n",
              "      fill: #1967D2;\n",
              "      height: 32px;\n",
              "      padding: 0 0 0 0;\n",
              "      width: 32px;\n",
              "    }\n",
              "\n",
              "    .colab-df-convert:hover {\n",
              "      background-color: #E2EBFA;\n",
              "      box-shadow: 0px 1px 2px rgba(60, 64, 67, 0.3), 0px 1px 3px 1px rgba(60, 64, 67, 0.15);\n",
              "      fill: #174EA6;\n",
              "    }\n",
              "\n",
              "    [theme=dark] .colab-df-convert {\n",
              "      background-color: #3B4455;\n",
              "      fill: #D2E3FC;\n",
              "    }\n",
              "\n",
              "    [theme=dark] .colab-df-convert:hover {\n",
              "      background-color: #434B5C;\n",
              "      box-shadow: 0px 1px 3px 1px rgba(0, 0, 0, 0.15);\n",
              "      filter: drop-shadow(0px 1px 2px rgba(0, 0, 0, 0.3));\n",
              "      fill: #FFFFFF;\n",
              "    }\n",
              "  </style>\n",
              "\n",
              "      <script>\n",
              "        const buttonEl =\n",
              "          document.querySelector('#df-c996fb19-984b-47fd-b9f8-95b0e8c116ce button.colab-df-convert');\n",
              "        buttonEl.style.display =\n",
              "          google.colab.kernel.accessAllowed ? 'block' : 'none';\n",
              "\n",
              "        async function convertToInteractive(key) {\n",
              "          const element = document.querySelector('#df-c996fb19-984b-47fd-b9f8-95b0e8c116ce');\n",
              "          const dataTable =\n",
              "            await google.colab.kernel.invokeFunction('convertToInteractive',\n",
              "                                                     [key], {});\n",
              "          if (!dataTable) return;\n",
              "\n",
              "          const docLinkHtml = 'Like what you see? Visit the ' +\n",
              "            '<a target=\"_blank\" href=https://colab.research.google.com/notebooks/data_table.ipynb>data table notebook</a>'\n",
              "            + ' to learn more about interactive tables.';\n",
              "          element.innerHTML = '';\n",
              "          dataTable['output_type'] = 'display_data';\n",
              "          await google.colab.output.renderOutput(dataTable, element);\n",
              "          const docLink = document.createElement('div');\n",
              "          docLink.innerHTML = docLinkHtml;\n",
              "          element.appendChild(docLink);\n",
              "        }\n",
              "      </script>\n",
              "    </div>\n",
              "  </div>\n",
              "  "
            ]
          },
          "metadata": {},
          "execution_count": 51
        }
      ]
    },
    {
      "cell_type": "markdown",
      "source": [
        "# **Exploratory Data Analysis (EDA)**"
      ],
      "metadata": {
        "id": "UBmMGeXA94Hk"
      }
    },
    {
      "cell_type": "code",
      "source": [
        "df_train.head()"
      ],
      "metadata": {
        "colab": {
          "base_uri": "https://localhost:8080/",
          "height": 250
        },
        "id": "mSqGNurp9E9q",
        "outputId": "ba094e93-e967-4a8e-a43e-ea87b49d4b65"
      },
      "execution_count": 52,
      "outputs": [
        {
          "output_type": "execute_result",
          "data": {
            "text/plain": [
              "  Gender Married Dependents     Education Self_Employed  ApplicantIncome  \\\n",
              "1   Male     Yes          1      Graduate            No             4583   \n",
              "2   Male     Yes          0      Graduate           Yes             3000   \n",
              "3   Male     Yes          0  Not Graduate            No             2583   \n",
              "4   Male      No          0      Graduate            No             6000   \n",
              "5   Male     Yes          2      Graduate           Yes             5417   \n",
              "\n",
              "   CoapplicantIncome  LoanAmount  Loan_Amount_Term  Credit_History  \\\n",
              "1             1508.0       128.0             360.0             1.0   \n",
              "2                0.0        66.0             360.0             1.0   \n",
              "3             2358.0       120.0             360.0             1.0   \n",
              "4                0.0       141.0             360.0             1.0   \n",
              "5             4196.0       267.0             360.0             1.0   \n",
              "\n",
              "  Property_Area Loan_Status  \n",
              "1         Rural           N  \n",
              "2         Urban           Y  \n",
              "3         Urban           Y  \n",
              "4         Urban           Y  \n",
              "5         Urban           Y  "
            ],
            "text/html": [
              "\n",
              "  <div id=\"df-64cd7183-6444-427f-b5b4-189b2b8b0a09\">\n",
              "    <div class=\"colab-df-container\">\n",
              "      <div>\n",
              "<style scoped>\n",
              "    .dataframe tbody tr th:only-of-type {\n",
              "        vertical-align: middle;\n",
              "    }\n",
              "\n",
              "    .dataframe tbody tr th {\n",
              "        vertical-align: top;\n",
              "    }\n",
              "\n",
              "    .dataframe thead th {\n",
              "        text-align: right;\n",
              "    }\n",
              "</style>\n",
              "<table border=\"1\" class=\"dataframe\">\n",
              "  <thead>\n",
              "    <tr style=\"text-align: right;\">\n",
              "      <th></th>\n",
              "      <th>Gender</th>\n",
              "      <th>Married</th>\n",
              "      <th>Dependents</th>\n",
              "      <th>Education</th>\n",
              "      <th>Self_Employed</th>\n",
              "      <th>ApplicantIncome</th>\n",
              "      <th>CoapplicantIncome</th>\n",
              "      <th>LoanAmount</th>\n",
              "      <th>Loan_Amount_Term</th>\n",
              "      <th>Credit_History</th>\n",
              "      <th>Property_Area</th>\n",
              "      <th>Loan_Status</th>\n",
              "    </tr>\n",
              "  </thead>\n",
              "  <tbody>\n",
              "    <tr>\n",
              "      <th>1</th>\n",
              "      <td>Male</td>\n",
              "      <td>Yes</td>\n",
              "      <td>1</td>\n",
              "      <td>Graduate</td>\n",
              "      <td>No</td>\n",
              "      <td>4583</td>\n",
              "      <td>1508.0</td>\n",
              "      <td>128.0</td>\n",
              "      <td>360.0</td>\n",
              "      <td>1.0</td>\n",
              "      <td>Rural</td>\n",
              "      <td>N</td>\n",
              "    </tr>\n",
              "    <tr>\n",
              "      <th>2</th>\n",
              "      <td>Male</td>\n",
              "      <td>Yes</td>\n",
              "      <td>0</td>\n",
              "      <td>Graduate</td>\n",
              "      <td>Yes</td>\n",
              "      <td>3000</td>\n",
              "      <td>0.0</td>\n",
              "      <td>66.0</td>\n",
              "      <td>360.0</td>\n",
              "      <td>1.0</td>\n",
              "      <td>Urban</td>\n",
              "      <td>Y</td>\n",
              "    </tr>\n",
              "    <tr>\n",
              "      <th>3</th>\n",
              "      <td>Male</td>\n",
              "      <td>Yes</td>\n",
              "      <td>0</td>\n",
              "      <td>Not Graduate</td>\n",
              "      <td>No</td>\n",
              "      <td>2583</td>\n",
              "      <td>2358.0</td>\n",
              "      <td>120.0</td>\n",
              "      <td>360.0</td>\n",
              "      <td>1.0</td>\n",
              "      <td>Urban</td>\n",
              "      <td>Y</td>\n",
              "    </tr>\n",
              "    <tr>\n",
              "      <th>4</th>\n",
              "      <td>Male</td>\n",
              "      <td>No</td>\n",
              "      <td>0</td>\n",
              "      <td>Graduate</td>\n",
              "      <td>No</td>\n",
              "      <td>6000</td>\n",
              "      <td>0.0</td>\n",
              "      <td>141.0</td>\n",
              "      <td>360.0</td>\n",
              "      <td>1.0</td>\n",
              "      <td>Urban</td>\n",
              "      <td>Y</td>\n",
              "    </tr>\n",
              "    <tr>\n",
              "      <th>5</th>\n",
              "      <td>Male</td>\n",
              "      <td>Yes</td>\n",
              "      <td>2</td>\n",
              "      <td>Graduate</td>\n",
              "      <td>Yes</td>\n",
              "      <td>5417</td>\n",
              "      <td>4196.0</td>\n",
              "      <td>267.0</td>\n",
              "      <td>360.0</td>\n",
              "      <td>1.0</td>\n",
              "      <td>Urban</td>\n",
              "      <td>Y</td>\n",
              "    </tr>\n",
              "  </tbody>\n",
              "</table>\n",
              "</div>\n",
              "      <button class=\"colab-df-convert\" onclick=\"convertToInteractive('df-64cd7183-6444-427f-b5b4-189b2b8b0a09')\"\n",
              "              title=\"Convert this dataframe to an interactive table.\"\n",
              "              style=\"display:none;\">\n",
              "        \n",
              "  <svg xmlns=\"http://www.w3.org/2000/svg\" height=\"24px\"viewBox=\"0 0 24 24\"\n",
              "       width=\"24px\">\n",
              "    <path d=\"M0 0h24v24H0V0z\" fill=\"none\"/>\n",
              "    <path d=\"M18.56 5.44l.94 2.06.94-2.06 2.06-.94-2.06-.94-.94-2.06-.94 2.06-2.06.94zm-11 1L8.5 8.5l.94-2.06 2.06-.94-2.06-.94L8.5 2.5l-.94 2.06-2.06.94zm10 10l.94 2.06.94-2.06 2.06-.94-2.06-.94-.94-2.06-.94 2.06-2.06.94z\"/><path d=\"M17.41 7.96l-1.37-1.37c-.4-.4-.92-.59-1.43-.59-.52 0-1.04.2-1.43.59L10.3 9.45l-7.72 7.72c-.78.78-.78 2.05 0 2.83L4 21.41c.39.39.9.59 1.41.59.51 0 1.02-.2 1.41-.59l7.78-7.78 2.81-2.81c.8-.78.8-2.07 0-2.86zM5.41 20L4 18.59l7.72-7.72 1.47 1.35L5.41 20z\"/>\n",
              "  </svg>\n",
              "      </button>\n",
              "      \n",
              "  <style>\n",
              "    .colab-df-container {\n",
              "      display:flex;\n",
              "      flex-wrap:wrap;\n",
              "      gap: 12px;\n",
              "    }\n",
              "\n",
              "    .colab-df-convert {\n",
              "      background-color: #E8F0FE;\n",
              "      border: none;\n",
              "      border-radius: 50%;\n",
              "      cursor: pointer;\n",
              "      display: none;\n",
              "      fill: #1967D2;\n",
              "      height: 32px;\n",
              "      padding: 0 0 0 0;\n",
              "      width: 32px;\n",
              "    }\n",
              "\n",
              "    .colab-df-convert:hover {\n",
              "      background-color: #E2EBFA;\n",
              "      box-shadow: 0px 1px 2px rgba(60, 64, 67, 0.3), 0px 1px 3px 1px rgba(60, 64, 67, 0.15);\n",
              "      fill: #174EA6;\n",
              "    }\n",
              "\n",
              "    [theme=dark] .colab-df-convert {\n",
              "      background-color: #3B4455;\n",
              "      fill: #D2E3FC;\n",
              "    }\n",
              "\n",
              "    [theme=dark] .colab-df-convert:hover {\n",
              "      background-color: #434B5C;\n",
              "      box-shadow: 0px 1px 3px 1px rgba(0, 0, 0, 0.15);\n",
              "      filter: drop-shadow(0px 1px 2px rgba(0, 0, 0, 0.3));\n",
              "      fill: #FFFFFF;\n",
              "    }\n",
              "  </style>\n",
              "\n",
              "      <script>\n",
              "        const buttonEl =\n",
              "          document.querySelector('#df-64cd7183-6444-427f-b5b4-189b2b8b0a09 button.colab-df-convert');\n",
              "        buttonEl.style.display =\n",
              "          google.colab.kernel.accessAllowed ? 'block' : 'none';\n",
              "\n",
              "        async function convertToInteractive(key) {\n",
              "          const element = document.querySelector('#df-64cd7183-6444-427f-b5b4-189b2b8b0a09');\n",
              "          const dataTable =\n",
              "            await google.colab.kernel.invokeFunction('convertToInteractive',\n",
              "                                                     [key], {});\n",
              "          if (!dataTable) return;\n",
              "\n",
              "          const docLinkHtml = 'Like what you see? Visit the ' +\n",
              "            '<a target=\"_blank\" href=https://colab.research.google.com/notebooks/data_table.ipynb>data table notebook</a>'\n",
              "            + ' to learn more about interactive tables.';\n",
              "          element.innerHTML = '';\n",
              "          dataTable['output_type'] = 'display_data';\n",
              "          await google.colab.output.renderOutput(dataTable, element);\n",
              "          const docLink = document.createElement('div');\n",
              "          docLink.innerHTML = docLinkHtml;\n",
              "          element.appendChild(docLink);\n",
              "        }\n",
              "      </script>\n",
              "    </div>\n",
              "  </div>\n",
              "  "
            ]
          },
          "metadata": {},
          "execution_count": 52
        }
      ]
    },
    {
      "cell_type": "code",
      "source": [
        "#distribution of Churn data\n",
        "sns.displot(data=df_train,x='Loan_Status')"
      ],
      "metadata": {
        "colab": {
          "base_uri": "https://localhost:8080/",
          "height": 387
        },
        "id": "h4ENNdJi-CEs",
        "outputId": "a26d03c8-f22d-431d-b1a7-0da7a3064c9c"
      },
      "execution_count": 53,
      "outputs": [
        {
          "output_type": "execute_result",
          "data": {
            "text/plain": [
              "<seaborn.axisgrid.FacetGrid at 0x7fd7a86ba8d0>"
            ]
          },
          "metadata": {},
          "execution_count": 53
        },
        {
          "output_type": "display_data",
          "data": {
            "text/plain": [
              "<Figure size 360x360 with 1 Axes>"
            ],
            "image/png": "[encoded data removed]"
          },
          "metadata": {
            "needs_background": "light"
          }
        }
      ]
    },
    {
      "cell_type": "markdown",
      "source": [
        "So we have a data which is unbalanced but not too much."
      ],
      "metadata": {
        "id": "31gNVROs-PVB"
      }
    },
    {
      "cell_type": "markdown",
      "source": [
        "### **Distribution of independent categorical variables with respect to dependent variable.**"
      ],
      "metadata": {
        "id": "AXsVZFVJ-06e"
      }
    },
    {
      "cell_type": "code",
      "source": [
        "#Defining categorical features\n",
        "categorical_features=list(df_train.columns)\n",
        "numeical_features = list(df_train.describe().columns)\n",
        "for elem in numeical_features:\n",
        " categorical_features.remove(elem)\n",
        "categorical_features = categorical_features[:-1]\n",
        "categorical_features"
      ],
      "metadata": {
        "colab": {
          "base_uri": "https://localhost:8080/"
        },
        "id": "2Gw-26Yq-L_8",
        "outputId": "329c979a-1015-437a-bca3-8adad18d20f9"
      },
      "execution_count": 54,
      "outputs": [
        {
          "output_type": "execute_result",
          "data": {
            "text/plain": [
              "['Gender',\n",
              " 'Married',\n",
              " 'Dependents',\n",
              " 'Education',\n",
              " 'Self_Employed',\n",
              " 'Property_Area']"
            ]
          },
          "metadata": {},
          "execution_count": 54
        }
      ]
    },
    {
      "cell_type": "code",
      "source": [
        "for col in categorical_features:\n",
        "  df_train.groupby([col, 'Loan_Status']).size().unstack().plot(kind='bar', stacked=True)\n",
        "  plt.title(f'Total count of Loan_Status grouped by {col} ')\n",
        "  plt.ylabel('Count')\n",
        "  plt.show()"
      ],
      "metadata": {
        "colab": {
          "base_uri": "https://localhost:8080/",
          "height": 1000
        },
        "id": "Np2I_scu_RxM",
        "outputId": "dcf758ff-7f73-4f39-f768-710db4274fef"
      },
      "execution_count": 55,
      "outputs": [
        {
          "output_type": "display_data",
          "data": {
            "text/plain": [
              "<Figure size 432x288 with 1 Axes>"
            ],
            "image/png": "[encoded data removed]"
          },
          "metadata": {
            "needs_background": "light"
          }
        },
        {
          "output_type": "display_data",
          "data": {
            "text/plain": [
              "<Figure size 432x288 with 1 Axes>"
            ],
            "image/png": "[encoded data removed]"
          },
          "metadata": {
            "needs_background": "light"
          }
        },
        {
          "output_type": "display_data",
          "data": {
            "text/plain": [
              "<Figure size 432x288 with 1 Axes>"
            ],
            "image/png": "[encoded data removed]"
          },
          "metadata": {
            "needs_background": "light"
          }
        },
        {
          "output_type": "display_data",
          "data": {
            "text/plain": [
              "<Figure size 432x288 with 1 Axes>"
            ],
            "image/png": "[encoded data removed]"
          },
          "metadata": {
            "needs_background": "light"
          }
        },
        {
          "output_type": "display_data",
          "data": {
            "text/plain": [
              "<Figure size 432x288 with 1 Axes>"
            ],
            "image/png": "[encoded data removed]"
          },
          "metadata": {
            "needs_background": "light"
          }
        },
        {
          "output_type": "display_data",
          "data": {
            "text/plain": [
              "<Figure size 432x288 with 1 Axes>"
            ],
            "image/png": "[encoded data removed]"
          },
          "metadata": {
            "needs_background": "light"
          }
        }
      ]
    },
    {
      "cell_type": "markdown",
      "source": [
        "**Observations from above plots:**\n",
        "\n",
        "\n",
        "\n",
        "*   Male is having greater percentage of loan approved as compared to feamle.\n",
        "*   Loan approval is more favoured towards graduates compared to non-graduates.\n",
        "\n",
        "*   Self employed are having a less chance to get loan approved compared to apmployed.\n",
        "*   Semi-urban area has the highest loan appproval rate.\n",
        "\n",
        "\n"
      ],
      "metadata": {
        "id": "MsCaWwccBF8S"
      }
    },
    {
      "cell_type": "markdown",
      "source": [
        "## **Let's have a look on the continuous independent variables grouped by dependent variable**"
      ],
      "metadata": {
        "id": "y5_3Bh9LCdzs"
      }
    },
    {
      "cell_type": "code",
      "source": [
        "for col in df_train.describe().columns:\n",
        "  sns.boxplot(x='Loan_Status', y=col, data=df_train)\n",
        "  plt.show()"
      ],
      "metadata": {
        "colab": {
          "base_uri": "https://localhost:8080/",
          "height": 1000
        },
        "id": "jii6ERF1_e7y",
        "outputId": "c4f06266-6daa-4d7c-9110-25533ef3550c"
      },
      "execution_count": 56,
      "outputs": [
        {
          "output_type": "display_data",
          "data": {
            "text/plain": [
              "<Figure size 432x288 with 1 Axes>"
            ],
            "image/png": "[encoded data removed]"
          },
          "metadata": {
            "needs_background": "light"
          }
        },
        {
          "output_type": "display_data",
          "data": {
            "text/plain": [
              "<Figure size 432x288 with 1 Axes>"
            ],
            "image/png": "[encoded data removed]"
          },
          "metadata": {
            "needs_background": "light"
          }
        },
        {
          "output_type": "display_data",
          "data": {
            "text/plain": [
              "<Figure size 432x288 with 1 Axes>"
            ],
            "image/png": "[encoded data removed]"
          },
          "metadata": {
            "needs_background": "light"
          }
        },
        {
          "output_type": "display_data",
          "data": {
            "text/plain": [
              "<Figure size 432x288 with 1 Axes>"
            ],
            "image/png": "[encoded data removed]"
          },
          "metadata": {
            "needs_background": "light"
          }
        },
        {
          "output_type": "display_data",
          "data": {
            "text/plain": [
              "<Figure size 432x288 with 1 Axes>"
            ],
            "image/png": "[encoded data removed]"
          },
          "metadata": {
            "needs_background": "light"
          }
        }
      ]
    },
    {
      "cell_type": "markdown",
      "source": [
        "We can observe a lot of outliers in the data.\n",
        "\n",
        "No any proper conclusions can be made from the box plots above."
      ],
      "metadata": {
        "id": "55tKsPXCDK76"
      }
    },
    {
      "cell_type": "markdown",
      "source": [
        "## **Correlation**"
      ],
      "metadata": {
        "id": "-j40yhFeFRKn"
      }
    },
    {
      "cell_type": "code",
      "source": [
        " ## Correlation between variables\n",
        "plt.figure(figsize=(15,8))\n",
        "correlation = df_train.corr()\n",
        "sns.heatmap((correlation), annot=True, cmap='coolwarm')"
      ],
      "metadata": {
        "colab": {
          "base_uri": "https://localhost:8080/",
          "height": 506
        },
        "id": "z_NQGiggCr2E",
        "outputId": "7c670ec3-77c1-4d84-9b80-bb33c288acd0"
      },
      "execution_count": 57,
      "outputs": [
        {
          "output_type": "execute_result",
          "data": {
            "text/plain": [
              "<matplotlib.axes._subplots.AxesSubplot at 0x7fd7a52e7450>"
            ]
          },
          "metadata": {},
          "execution_count": 57
        },
        {
          "output_type": "display_data",
          "data": {
            "text/plain": [
              "<Figure size 1080x576 with 2 Axes>"
            ],
            "image/png": "[encoded data removed]"
          },
          "metadata": {
            "needs_background": "light"
          }
        }
      ]
    },
    {
      "cell_type": "markdown",
      "source": [
        "No any significant correlation observed."
      ],
      "metadata": {
        "id": "h1GNoxkwFjFw"
      }
    },
    {
      "cell_type": "markdown",
      "source": [
        "## **Data Preprocessing**"
      ],
      "metadata": {
        "id": "CJNT0gp1FvIU"
      }
    },
    {
      "cell_type": "code",
      "source": [
        "df_train.head()"
      ],
      "metadata": {
        "colab": {
          "base_uri": "https://localhost:8080/",
          "height": 250
        },
        "id": "qQPsQmi1FY7I",
        "outputId": "93ac3f9a-bcec-4ad6-dd4d-d27fde8f6cd6"
      },
      "execution_count": 61,
      "outputs": [
        {
          "output_type": "execute_result",
          "data": {
            "text/plain": [
              "  Gender Married Dependents     Education Self_Employed  ApplicantIncome  \\\n",
              "1   Male     Yes          1      Graduate            No             4583   \n",
              "2   Male     Yes          0      Graduate           Yes             3000   \n",
              "3   Male     Yes          0  Not Graduate            No             2583   \n",
              "4   Male      No          0      Graduate            No             6000   \n",
              "5   Male     Yes          2      Graduate           Yes             5417   \n",
              "\n",
              "   CoapplicantIncome  LoanAmount  Loan_Amount_Term  Credit_History  \\\n",
              "1             1508.0       128.0             360.0             1.0   \n",
              "2                0.0        66.0             360.0             1.0   \n",
              "3             2358.0       120.0             360.0             1.0   \n",
              "4                0.0       141.0             360.0             1.0   \n",
              "5             4196.0       267.0             360.0             1.0   \n",
              "\n",
              "  Property_Area Loan_Status  \n",
              "1         Rural           N  \n",
              "2         Urban           Y  \n",
              "3         Urban           Y  \n",
              "4         Urban           Y  \n",
              "5         Urban           Y  "
            ],
            "text/html": [
              "\n",
              "  <div id=\"df-8ed0e786-9274-46f6-88ef-81c539580b98\">\n",
              "    <div class=\"colab-df-container\">\n",
              "      <div>\n",
              "<style scoped>\n",
              "    .dataframe tbody tr th:only-of-type {\n",
              "        vertical-align: middle;\n",
              "    }\n",
              "\n",
              "    .dataframe tbody tr th {\n",
              "        vertical-align: top;\n",
              "    }\n",
              "\n",
              "    .dataframe thead th {\n",
              "        text-align: right;\n",
              "    }\n",
              "</style>\n",
              "<table border=\"1\" class=\"dataframe\">\n",
              "  <thead>\n",
              "    <tr style=\"text-align: right;\">\n",
              "      <th></th>\n",
              "      <th>Gender</th>\n",
              "      <th>Married</th>\n",
              "      <th>Dependents</th>\n",
              "      <th>Education</th>\n",
              "      <th>Self_Employed</th>\n",
              "      <th>ApplicantIncome</th>\n",
              "      <th>CoapplicantIncome</th>\n",
              "      <th>LoanAmount</th>\n",
              "      <th>Loan_Amount_Term</th>\n",
              "      <th>Credit_History</th>\n",
              "      <th>Property_Area</th>\n",
              "      <th>Loan_Status</th>\n",
              "    </tr>\n",
              "  </thead>\n",
              "  <tbody>\n",
              "    <tr>\n",
              "      <th>1</th>\n",
              "      <td>Male</td>\n",
              "      <td>Yes</td>\n",
              "      <td>1</td>\n",
              "      <td>Graduate</td>\n",
              "      <td>No</td>\n",
              "      <td>4583</td>\n",
              "      <td>1508.0</td>\n",
              "      <td>128.0</td>\n",
              "      <td>360.0</td>\n",
              "      <td>1.0</td>\n",
              "      <td>Rural</td>\n",
              "      <td>N</td>\n",
              "    </tr>\n",
              "    <tr>\n",
              "      <th>2</th>\n",
              "      <td>Male</td>\n",
              "      <td>Yes</td>\n",
              "      <td>0</td>\n",
              "      <td>Graduate</td>\n",
              "      <td>Yes</td>\n",
              "      <td>3000</td>\n",
              "      <td>0.0</td>\n",
              "      <td>66.0</td>\n",
              "      <td>360.0</td>\n",
              "      <td>1.0</td>\n",
              "      <td>Urban</td>\n",
              "      <td>Y</td>\n",
              "    </tr>\n",
              "    <tr>\n",
              "      <th>3</th>\n",
              "      <td>Male</td>\n",
              "      <td>Yes</td>\n",
              "      <td>0</td>\n",
              "      <td>Not Graduate</td>\n",
              "      <td>No</td>\n",
              "      <td>2583</td>\n",
              "      <td>2358.0</td>\n",
              "      <td>120.0</td>\n",
              "      <td>360.0</td>\n",
              "      <td>1.0</td>\n",
              "      <td>Urban</td>\n",
              "      <td>Y</td>\n",
              "    </tr>\n",
              "    <tr>\n",
              "      <th>4</th>\n",
              "      <td>Male</td>\n",
              "      <td>No</td>\n",
              "      <td>0</td>\n",
              "      <td>Graduate</td>\n",
              "      <td>No</td>\n",
              "      <td>6000</td>\n",
              "      <td>0.0</td>\n",
              "      <td>141.0</td>\n",
              "      <td>360.0</td>\n",
              "      <td>1.0</td>\n",
              "      <td>Urban</td>\n",
              "      <td>Y</td>\n",
              "    </tr>\n",
              "    <tr>\n",
              "      <th>5</th>\n",
              "      <td>Male</td>\n",
              "      <td>Yes</td>\n",
              "      <td>2</td>\n",
              "      <td>Graduate</td>\n",
              "      <td>Yes</td>\n",
              "      <td>5417</td>\n",
              "      <td>4196.0</td>\n",
              "      <td>267.0</td>\n",
              "      <td>360.0</td>\n",
              "      <td>1.0</td>\n",
              "      <td>Urban</td>\n",
              "      <td>Y</td>\n",
              "    </tr>\n",
              "  </tbody>\n",
              "</table>\n",
              "</div>\n",
              "      <button class=\"colab-df-convert\" onclick=\"convertToInteractive('df-8ed0e786-9274-46f6-88ef-81c539580b98')\"\n",
              "              title=\"Convert this dataframe to an interactive table.\"\n",
              "              style=\"display:none;\">\n",
              "        \n",
              "  <svg xmlns=\"http://www.w3.org/2000/svg\" height=\"24px\"viewBox=\"0 0 24 24\"\n",
              "       width=\"24px\">\n",
              "    <path d=\"M0 0h24v24H0V0z\" fill=\"none\"/>\n",
              "    <path d=\"M18.56 5.44l.94 2.06.94-2.06 2.06-.94-2.06-.94-.94-2.06-.94 2.06-2.06.94zm-11 1L8.5 8.5l.94-2.06 2.06-.94-2.06-.94L8.5 2.5l-.94 2.06-2.06.94zm10 10l.94 2.06.94-2.06 2.06-.94-2.06-.94-.94-2.06-.94 2.06-2.06.94z\"/><path d=\"M17.41 7.96l-1.37-1.37c-.4-.4-.92-.59-1.43-.59-.52 0-1.04.2-1.43.59L10.3 9.45l-7.72 7.72c-.78.78-.78 2.05 0 2.83L4 21.41c.39.39.9.59 1.41.59.51 0 1.02-.2 1.41-.59l7.78-7.78 2.81-2.81c.8-.78.8-2.07 0-2.86zM5.41 20L4 18.59l7.72-7.72 1.47 1.35L5.41 20z\"/>\n",
              "  </svg>\n",
              "      </button>\n",
              "      \n",
              "  <style>\n",
              "    .colab-df-container {\n",
              "      display:flex;\n",
              "      flex-wrap:wrap;\n",
              "      gap: 12px;\n",
              "    }\n",
              "\n",
              "    .colab-df-convert {\n",
              "      background-color: #E8F0FE;\n",
              "      border: none;\n",
              "      border-radius: 50%;\n",
              "      cursor: pointer;\n",
              "      display: none;\n",
              "      fill: #1967D2;\n",
              "      height: 32px;\n",
              "      padding: 0 0 0 0;\n",
              "      width: 32px;\n",
              "    }\n",
              "\n",
              "    .colab-df-convert:hover {\n",
              "      background-color: #E2EBFA;\n",
              "      box-shadow: 0px 1px 2px rgba(60, 64, 67, 0.3), 0px 1px 3px 1px rgba(60, 64, 67, 0.15);\n",
              "      fill: #174EA6;\n",
              "    }\n",
              "\n",
              "    [theme=dark] .colab-df-convert {\n",
              "      background-color: #3B4455;\n",
              "      fill: #D2E3FC;\n",
              "    }\n",
              "\n",
              "    [theme=dark] .colab-df-convert:hover {\n",
              "      background-color: #434B5C;\n",
              "      box-shadow: 0px 1px 3px 1px rgba(0, 0, 0, 0.15);\n",
              "      filter: drop-shadow(0px 1px 2px rgba(0, 0, 0, 0.3));\n",
              "      fill: #FFFFFF;\n",
              "    }\n",
              "  </style>\n",
              "\n",
              "      <script>\n",
              "        const buttonEl =\n",
              "          document.querySelector('#df-8ed0e786-9274-46f6-88ef-81c539580b98 button.colab-df-convert');\n",
              "        buttonEl.style.display =\n",
              "          google.colab.kernel.accessAllowed ? 'block' : 'none';\n",
              "\n",
              "        async function convertToInteractive(key) {\n",
              "          const element = document.querySelector('#df-8ed0e786-9274-46f6-88ef-81c539580b98');\n",
              "          const dataTable =\n",
              "            await google.colab.kernel.invokeFunction('convertToInteractive',\n",
              "                                                     [key], {});\n",
              "          if (!dataTable) return;\n",
              "\n",
              "          const docLinkHtml = 'Like what you see? Visit the ' +\n",
              "            '<a target=\"_blank\" href=https://colab.research.google.com/notebooks/data_table.ipynb>data table notebook</a>'\n",
              "            + ' to learn more about interactive tables.';\n",
              "          element.innerHTML = '';\n",
              "          dataTable['output_type'] = 'display_data';\n",
              "          await google.colab.output.renderOutput(dataTable, element);\n",
              "          const docLink = document.createElement('div');\n",
              "          docLink.innerHTML = docLinkHtml;\n",
              "          element.appendChild(docLink);\n",
              "        }\n",
              "      </script>\n",
              "    </div>\n",
              "  </div>\n",
              "  "
            ]
          },
          "metadata": {},
          "execution_count": 61
        }
      ]
    },
    {
      "cell_type": "code",
      "source": [
        "df_train['Property_Area'].value_counts()"
      ],
      "metadata": {
        "colab": {
          "base_uri": "https://localhost:8080/"
        },
        "id": "HG_3ZGq-Fyzj",
        "outputId": "1a5966a5-3ece-4df9-d309-7c891460342d"
      },
      "execution_count": 62,
      "outputs": [
        {
          "output_type": "execute_result",
          "data": {
            "text/plain": [
              "Semiurban    191\n",
              "Urban        150\n",
              "Rural        139\n",
              "Name: Property_Area, dtype: int64"
            ]
          },
          "metadata": {},
          "execution_count": 62
        }
      ]
    },
    {
      "cell_type": "code",
      "source": [
        "df_train['Credit_History'].value_counts()"
      ],
      "metadata": {
        "colab": {
          "base_uri": "https://localhost:8080/"
        },
        "id": "wsj8OXuPGjEY",
        "outputId": "a0aecb0c-44d4-4385-b2d3-06e5ec807783"
      },
      "execution_count": 63,
      "outputs": [
        {
          "output_type": "execute_result",
          "data": {
            "text/plain": [
              "1.0    410\n",
              "0.0     70\n",
              "Name: Credit_History, dtype: int64"
            ]
          },
          "metadata": {},
          "execution_count": 63
        }
      ]
    },
    {
      "cell_type": "code",
      "source": [
        "df_train['Dependents'].value_counts()"
      ],
      "metadata": {
        "colab": {
          "base_uri": "https://localhost:8080/"
        },
        "id": "s6yESt7zGvji",
        "outputId": "887e9bab-b2c5-4d63-f9f2-916f5dcd5bfd"
      },
      "execution_count": 64,
      "outputs": [
        {
          "output_type": "execute_result",
          "data": {
            "text/plain": [
              "0     274\n",
              "2      85\n",
              "1      80\n",
              "3+     41\n",
              "Name: Dependents, dtype: int64"
            ]
          },
          "metadata": {},
          "execution_count": 64
        }
      ]
    },
    {
      "cell_type": "markdown",
      "source": [
        "**Converting categorical column to numeric using label encoding**"
      ],
      "metadata": {
        "id": "0bkl1kUmG9IQ"
      }
    },
    {
      "cell_type": "code",
      "source": [
        "#Label encoding for some categorical features\n",
        "df_train_new = df_train.copy()\n",
        "label_col_list = ['Married','Self_Employed']\n",
        "for col in label_col_list:\n",
        "  df_train_new=df_train_new.replace({col:{'Yes':1,'No':0}})"
      ],
      "metadata": {
        "id": "i67FKK90G5Pi"
      },
      "execution_count": 69,
      "outputs": []
    },
    {
      "cell_type": "code",
      "source": [
        "df_train_new=df_train_new.replace({'Gender':{'Male':1,'Female':0}})\n",
        "df_train_new=df_train_new.replace({'Education':{'Graduate':1,'Not Graduate':0}})\n",
        "df_train_new=df_train_new.replace({'Loan_Status':{'Y':1,'N':0}})"
      ],
      "metadata": {
        "id": "JiAqdkooHtzA"
      },
      "execution_count": 70,
      "outputs": []
    },
    {
      "cell_type": "markdown",
      "source": [
        "**For the rest of categorical feature we will do one hot encoding:**"
      ],
      "metadata": {
        "id": "af32qKQbIaYg"
      }
    },
    {
      "cell_type": "code",
      "source": [
        "#one hot encoding\n",
        "df_train_new = pd.get_dummies(df_train_new, columns=[\"Dependents\",\"Property_Area\"])"
      ],
      "metadata": {
        "id": "ktCL7NtbHn1v"
      },
      "execution_count": 72,
      "outputs": []
    },
    {
      "cell_type": "code",
      "source": [
        "df_train_new.head()"
      ],
      "metadata": {
        "colab": {
          "base_uri": "https://localhost:8080/",
          "height": 270
        },
        "id": "JvHO1GwzHl5T",
        "outputId": "010ffbba-7703-44d5-d213-e37193a784a1"
      },
      "execution_count": 73,
      "outputs": [
        {
          "output_type": "execute_result",
          "data": {
            "text/plain": [
              "   Gender  Married  Education  Self_Employed  ApplicantIncome  \\\n",
              "1       1        1          1              0             4583   \n",
              "2       1        1          1              1             3000   \n",
              "3       1        1          0              0             2583   \n",
              "4       1        0          1              0             6000   \n",
              "5       1        1          1              1             5417   \n",
              "\n",
              "   CoapplicantIncome  LoanAmount  Loan_Amount_Term  Credit_History  \\\n",
              "1             1508.0       128.0             360.0             1.0   \n",
              "2                0.0        66.0             360.0             1.0   \n",
              "3             2358.0       120.0             360.0             1.0   \n",
              "4                0.0       141.0             360.0             1.0   \n",
              "5             4196.0       267.0             360.0             1.0   \n",
              "\n",
              "   Loan_Status  Dependents_0  Dependents_1  Dependents_2  Dependents_3+  \\\n",
              "1            0             0             1             0              0   \n",
              "2            1             1             0             0              0   \n",
              "3            1             1             0             0              0   \n",
              "4            1             1             0             0              0   \n",
              "5            1             0             0             1              0   \n",
              "\n",
              "   Property_Area_Rural  Property_Area_Semiurban  Property_Area_Urban  \n",
              "1                    1                        0                    0  \n",
              "2                    0                        0                    1  \n",
              "3                    0                        0                    1  \n",
              "4                    0                        0                    1  \n",
              "5                    0                        0                    1  "
            ],
            "text/html": [
              "\n",
              "  <div id=\"df-33c623d8-29a3-4f44-b3ab-096996ff0ad5\">\n",
              "    <div class=\"colab-df-container\">\n",
              "      <div>\n",
              "<style scoped>\n",
              "    .dataframe tbody tr th:only-of-type {\n",
              "        vertical-align: middle;\n",
              "    }\n",
              "\n",
              "    .dataframe tbody tr th {\n",
              "        vertical-align: top;\n",
              "    }\n",
              "\n",
              "    .dataframe thead th {\n",
              "        text-align: right;\n",
              "    }\n",
              "</style>\n",
              "<table border=\"1\" class=\"dataframe\">\n",
              "  <thead>\n",
              "    <tr style=\"text-align: right;\">\n",
              "      <th></th>\n",
              "      <th>Gender</th>\n",
              "      <th>Married</th>\n",
              "      <th>Education</th>\n",
              "      <th>Self_Employed</th>\n",
              "      <th>ApplicantIncome</th>\n",
              "      <th>CoapplicantIncome</th>\n",
              "      <th>LoanAmount</th>\n",
              "      <th>Loan_Amount_Term</th>\n",
              "      <th>Credit_History</th>\n",
              "      <th>Loan_Status</th>\n",
              "      <th>Dependents_0</th>\n",
              "      <th>Dependents_1</th>\n",
              "      <th>Dependents_2</th>\n",
              "      <th>Dependents_3+</th>\n",
              "      <th>Property_Area_Rural</th>\n",
              "      <th>Property_Area_Semiurban</th>\n",
              "      <th>Property_Area_Urban</th>\n",
              "    </tr>\n",
              "  </thead>\n",
              "  <tbody>\n",
              "    <tr>\n",
              "      <th>1</th>\n",
              "      <td>1</td>\n",
              "      <td>1</td>\n",
              "      <td>1</td>\n",
              "      <td>0</td>\n",
              "      <td>4583</td>\n",
              "      <td>1508.0</td>\n",
              "      <td>128.0</td>\n",
              "      <td>360.0</td>\n",
              "      <td>1.0</td>\n",
              "      <td>0</td>\n",
              "      <td>0</td>\n",
              "      <td>1</td>\n",
              "      <td>0</td>\n",
              "      <td>0</td>\n",
              "      <td>1</td>\n",
              "      <td>0</td>\n",
              "      <td>0</td>\n",
              "    </tr>\n",
              "    <tr>\n",
              "      <th>2</th>\n",
              "      <td>1</td>\n",
              "      <td>1</td>\n",
              "      <td>1</td>\n",
              "      <td>1</td>\n",
              "      <td>3000</td>\n",
              "      <td>0.0</td>\n",
              "      <td>66.0</td>\n",
              "      <td>360.0</td>\n",
              "      <td>1.0</td>\n",
              "      <td>1</td>\n",
              "      <td>1</td>\n",
              "      <td>0</td>\n",
              "      <td>0</td>\n",
              "      <td>0</td>\n",
              "      <td>0</td>\n",
              "      <td>0</td>\n",
              "      <td>1</td>\n",
              "    </tr>\n",
              "    <tr>\n",
              "      <th>3</th>\n",
              "      <td>1</td>\n",
              "      <td>1</td>\n",
              "      <td>0</td>\n",
              "      <td>0</td>\n",
              "      <td>2583</td>\n",
              "      <td>2358.0</td>\n",
              "      <td>120.0</td>\n",
              "      <td>360.0</td>\n",
              "      <td>1.0</td>\n",
              "      <td>1</td>\n",
              "      <td>1</td>\n",
              "      <td>0</td>\n",
              "      <td>0</td>\n",
              "      <td>0</td>\n",
              "      <td>0</td>\n",
              "      <td>0</td>\n",
              "      <td>1</td>\n",
              "    </tr>\n",
              "    <tr>\n",
              "      <th>4</th>\n",
              "      <td>1</td>\n",
              "      <td>0</td>\n",
              "      <td>1</td>\n",
              "      <td>0</td>\n",
              "      <td>6000</td>\n",
              "      <td>0.0</td>\n",
              "      <td>141.0</td>\n",
              "      <td>360.0</td>\n",
              "      <td>1.0</td>\n",
              "      <td>1</td>\n",
              "      <td>1</td>\n",
              "      <td>0</td>\n",
              "      <td>0</td>\n",
              "      <td>0</td>\n",
              "      <td>0</td>\n",
              "      <td>0</td>\n",
              "      <td>1</td>\n",
              "    </tr>\n",
              "    <tr>\n",
              "      <th>5</th>\n",
              "      <td>1</td>\n",
              "      <td>1</td>\n",
              "      <td>1</td>\n",
              "      <td>1</td>\n",
              "      <td>5417</td>\n",
              "      <td>4196.0</td>\n",
              "      <td>267.0</td>\n",
              "      <td>360.0</td>\n",
              "      <td>1.0</td>\n",
              "      <td>1</td>\n",
              "      <td>0</td>\n",
              "      <td>0</td>\n",
              "      <td>1</td>\n",
              "      <td>0</td>\n",
              "      <td>0</td>\n",
              "      <td>0</td>\n",
              "      <td>1</td>\n",
              "    </tr>\n",
              "  </tbody>\n",
              "</table>\n",
              "</div>\n",
              "      <button class=\"colab-df-convert\" onclick=\"convertToInteractive('df-33c623d8-29a3-4f44-b3ab-096996ff0ad5')\"\n",
              "              title=\"Convert this dataframe to an interactive table.\"\n",
              "              style=\"display:none;\">\n",
              "        \n",
              "  <svg xmlns=\"http://www.w3.org/2000/svg\" height=\"24px\"viewBox=\"0 0 24 24\"\n",
              "       width=\"24px\">\n",
              "    <path d=\"M0 0h24v24H0V0z\" fill=\"none\"/>\n",
              "    <path d=\"M18.56 5.44l.94 2.06.94-2.06 2.06-.94-2.06-.94-.94-2.06-.94 2.06-2.06.94zm-11 1L8.5 8.5l.94-2.06 2.06-.94-2.06-.94L8.5 2.5l-.94 2.06-2.06.94zm10 10l.94 2.06.94-2.06 2.06-.94-2.06-.94-.94-2.06-.94 2.06-2.06.94z\"/><path d=\"M17.41 7.96l-1.37-1.37c-.4-.4-.92-.59-1.43-.59-.52 0-1.04.2-1.43.59L10.3 9.45l-7.72 7.72c-.78.78-.78 2.05 0 2.83L4 21.41c.39.39.9.59 1.41.59.51 0 1.02-.2 1.41-.59l7.78-7.78 2.81-2.81c.8-.78.8-2.07 0-2.86zM5.41 20L4 18.59l7.72-7.72 1.47 1.35L5.41 20z\"/>\n",
              "  </svg>\n",
              "      </button>\n",
              "      \n",
              "  <style>\n",
              "    .colab-df-container {\n",
              "      display:flex;\n",
              "      flex-wrap:wrap;\n",
              "      gap: 12px;\n",
              "    }\n",
              "\n",
              "    .colab-df-convert {\n",
              "      background-color: #E8F0FE;\n",
              "      border: none;\n",
              "      border-radius: 50%;\n",
              "      cursor: pointer;\n",
              "      display: none;\n",
              "      fill: #1967D2;\n",
              "      height: 32px;\n",
              "      padding: 0 0 0 0;\n",
              "      width: 32px;\n",
              "    }\n",
              "\n",
              "    .colab-df-convert:hover {\n",
              "      background-color: #E2EBFA;\n",
              "      box-shadow: 0px 1px 2px rgba(60, 64, 67, 0.3), 0px 1px 3px 1px rgba(60, 64, 67, 0.15);\n",
              "      fill: #174EA6;\n",
              "    }\n",
              "\n",
              "    [theme=dark] .colab-df-convert {\n",
              "      background-color: #3B4455;\n",
              "      fill: #D2E3FC;\n",
              "    }\n",
              "\n",
              "    [theme=dark] .colab-df-convert:hover {\n",
              "      background-color: #434B5C;\n",
              "      box-shadow: 0px 1px 3px 1px rgba(0, 0, 0, 0.15);\n",
              "      filter: drop-shadow(0px 1px 2px rgba(0, 0, 0, 0.3));\n",
              "      fill: #FFFFFF;\n",
              "    }\n",
              "  </style>\n",
              "\n",
              "      <script>\n",
              "        const buttonEl =\n",
              "          document.querySelector('#df-33c623d8-29a3-4f44-b3ab-096996ff0ad5 button.colab-df-convert');\n",
              "        buttonEl.style.display =\n",
              "          google.colab.kernel.accessAllowed ? 'block' : 'none';\n",
              "\n",
              "        async function convertToInteractive(key) {\n",
              "          const element = document.querySelector('#df-33c623d8-29a3-4f44-b3ab-096996ff0ad5');\n",
              "          const dataTable =\n",
              "            await google.colab.kernel.invokeFunction('convertToInteractive',\n",
              "                                                     [key], {});\n",
              "          if (!dataTable) return;\n",
              "\n",
              "          const docLinkHtml = 'Like what you see? Visit the ' +\n",
              "            '<a target=\"_blank\" href=https://colab.research.google.com/notebooks/data_table.ipynb>data table notebook</a>'\n",
              "            + ' to learn more about interactive tables.';\n",
              "          element.innerHTML = '';\n",
              "          dataTable['output_type'] = 'display_data';\n",
              "          await google.colab.output.renderOutput(dataTable, element);\n",
              "          const docLink = document.createElement('div');\n",
              "          docLink.innerHTML = docLinkHtml;\n",
              "          element.appendChild(docLink);\n",
              "        }\n",
              "      </script>\n",
              "    </div>\n",
              "  </div>\n",
              "  "
            ]
          },
          "metadata": {},
          "execution_count": 73
        }
      ]
    },
    {
      "cell_type": "markdown",
      "source": [
        "**Stanardizing the continuous variables.**"
      ],
      "metadata": {
        "id": "CsQJwfOpIzUv"
      }
    },
    {
      "cell_type": "code",
      "source": [
        "#standardize continuous features\n",
        "from scipy.stats import zscore\n",
        "df_train_new[['ApplicantIncome','CoapplicantIncome','LoanAmount','Loan_Amount_Term']]=df_train_new[['ApplicantIncome','CoapplicantIncome','LoanAmount','Loan_Amount_Term']].apply(zscore) "
      ],
      "metadata": {
        "id": "j2WxvgT0Iq08"
      },
      "execution_count": 74,
      "outputs": []
    },
    {
      "cell_type": "code",
      "source": [
        "df_train_new.head()"
      ],
      "metadata": {
        "colab": {
          "base_uri": "https://localhost:8080/",
          "height": 270
        },
        "id": "RypG7TfcJUqT",
        "outputId": "2e9f49c7-7800-4732-aa94-d76fc3fb79dc"
      },
      "execution_count": 75,
      "outputs": [
        {
          "output_type": "execute_result",
          "data": {
            "text/plain": [
              "   Gender  Married  Education  Self_Employed  ApplicantIncome  \\\n",
              "1       1        1          1              0        -0.137970   \n",
              "2       1        1          1              1        -0.417536   \n",
              "3       1        1          0              0        -0.491180   \n",
              "4       1        0          1              0         0.112280   \n",
              "5       1        1          1              1         0.009319   \n",
              "\n",
              "   CoapplicantIncome  LoanAmount  Loan_Amount_Term  Credit_History  \\\n",
              "1          -0.027952   -0.208089          0.275542             1.0   \n",
              "2          -0.604633   -0.979001          0.275542             1.0   \n",
              "3           0.297100   -0.307562          0.275542             1.0   \n",
              "4          -0.604633   -0.046446          0.275542             1.0   \n",
              "5           0.999978    1.520245          0.275542             1.0   \n",
              "\n",
              "   Loan_Status  Dependents_0  Dependents_1  Dependents_2  Dependents_3+  \\\n",
              "1            0             0             1             0              0   \n",
              "2            1             1             0             0              0   \n",
              "3            1             1             0             0              0   \n",
              "4            1             1             0             0              0   \n",
              "5            1             0             0             1              0   \n",
              "\n",
              "   Property_Area_Rural  Property_Area_Semiurban  Property_Area_Urban  \n",
              "1                    1                        0                    0  \n",
              "2                    0                        0                    1  \n",
              "3                    0                        0                    1  \n",
              "4                    0                        0                    1  \n",
              "5                    0                        0                    1  "
            ],
            "text/html": [
              "\n",
              "  <div id=\"df-83ae374f-5f5c-439d-8667-36913f23dd54\">\n",
              "    <div class=\"colab-df-container\">\n",
              "      <div>\n",
              "<style scoped>\n",
              "    .dataframe tbody tr th:only-of-type {\n",
              "        vertical-align: middle;\n",
              "    }\n",
              "\n",
              "    .dataframe tbody tr th {\n",
              "        vertical-align: top;\n",
              "    }\n",
              "\n",
              "    .dataframe thead th {\n",
              "        text-align: right;\n",
              "    }\n",
              "</style>\n",
              "<table border=\"1\" class=\"dataframe\">\n",
              "  <thead>\n",
              "    <tr style=\"text-align: right;\">\n",
              "      <th></th>\n",
              "      <th>Gender</th>\n",
              "      <th>Married</th>\n",
              "      <th>Education</th>\n",
              "      <th>Self_Employed</th>\n",
              "      <th>ApplicantIncome</th>\n",
              "      <th>CoapplicantIncome</th>\n",
              "      <th>LoanAmount</th>\n",
              "      <th>Loan_Amount_Term</th>\n",
              "      <th>Credit_History</th>\n",
              "      <th>Loan_Status</th>\n",
              "      <th>Dependents_0</th>\n",
              "      <th>Dependents_1</th>\n",
              "      <th>Dependents_2</th>\n",
              "      <th>Dependents_3+</th>\n",
              "      <th>Property_Area_Rural</th>\n",
              "      <th>Property_Area_Semiurban</th>\n",
              "      <th>Property_Area_Urban</th>\n",
              "    </tr>\n",
              "  </thead>\n",
              "  <tbody>\n",
              "    <tr>\n",
              "      <th>1</th>\n",
              "      <td>1</td>\n",
              "      <td>1</td>\n",
              "      <td>1</td>\n",
              "      <td>0</td>\n",
              "      <td>-0.137970</td>\n",
              "      <td>-0.027952</td>\n",
              "      <td>-0.208089</td>\n",
              "      <td>0.275542</td>\n",
              "      <td>1.0</td>\n",
              "      <td>0</td>\n",
              "      <td>0</td>\n",
              "      <td>1</td>\n",
              "      <td>0</td>\n",
              "      <td>0</td>\n",
              "      <td>1</td>\n",
              "      <td>0</td>\n",
              "      <td>0</td>\n",
              "    </tr>\n",
              "    <tr>\n",
              "      <th>2</th>\n",
              "      <td>1</td>\n",
              "      <td>1</td>\n",
              "      <td>1</td>\n",
              "      <td>1</td>\n",
              "      <td>-0.417536</td>\n",
              "      <td>-0.604633</td>\n",
              "      <td>-0.979001</td>\n",
              "      <td>0.275542</td>\n",
              "      <td>1.0</td>\n",
              "      <td>1</td>\n",
              "      <td>1</td>\n",
              "      <td>0</td>\n",
              "      <td>0</td>\n",
              "      <td>0</td>\n",
              "      <td>0</td>\n",
              "      <td>0</td>\n",
              "      <td>1</td>\n",
              "    </tr>\n",
              "    <tr>\n",
              "      <th>3</th>\n",
              "      <td>1</td>\n",
              "      <td>1</td>\n",
              "      <td>0</td>\n",
              "      <td>0</td>\n",
              "      <td>-0.491180</td>\n",
              "      <td>0.297100</td>\n",
              "      <td>-0.307562</td>\n",
              "      <td>0.275542</td>\n",
              "      <td>1.0</td>\n",
              "      <td>1</td>\n",
              "      <td>1</td>\n",
              "      <td>0</td>\n",
              "      <td>0</td>\n",
              "      <td>0</td>\n",
              "      <td>0</td>\n",
              "      <td>0</td>\n",
              "      <td>1</td>\n",
              "    </tr>\n",
              "    <tr>\n",
              "      <th>4</th>\n",
              "      <td>1</td>\n",
              "      <td>0</td>\n",
              "      <td>1</td>\n",
              "      <td>0</td>\n",
              "      <td>0.112280</td>\n",
              "      <td>-0.604633</td>\n",
              "      <td>-0.046446</td>\n",
              "      <td>0.275542</td>\n",
              "      <td>1.0</td>\n",
              "      <td>1</td>\n",
              "      <td>1</td>\n",
              "      <td>0</td>\n",
              "      <td>0</td>\n",
              "      <td>0</td>\n",
              "      <td>0</td>\n",
              "      <td>0</td>\n",
              "      <td>1</td>\n",
              "    </tr>\n",
              "    <tr>\n",
              "      <th>5</th>\n",
              "      <td>1</td>\n",
              "      <td>1</td>\n",
              "      <td>1</td>\n",
              "      <td>1</td>\n",
              "      <td>0.009319</td>\n",
              "      <td>0.999978</td>\n",
              "      <td>1.520245</td>\n",
              "      <td>0.275542</td>\n",
              "      <td>1.0</td>\n",
              "      <td>1</td>\n",
              "      <td>0</td>\n",
              "      <td>0</td>\n",
              "      <td>1</td>\n",
              "      <td>0</td>\n",
              "      <td>0</td>\n",
              "      <td>0</td>\n",
              "      <td>1</td>\n",
              "    </tr>\n",
              "  </tbody>\n",
              "</table>\n",
              "</div>\n",
              "      <button class=\"colab-df-convert\" onclick=\"convertToInteractive('df-83ae374f-5f5c-439d-8667-36913f23dd54')\"\n",
              "              title=\"Convert this dataframe to an interactive table.\"\n",
              "              style=\"display:none;\">\n",
              "        \n",
              "  <svg xmlns=\"http://www.w3.org/2000/svg\" height=\"24px\"viewBox=\"0 0 24 24\"\n",
              "       width=\"24px\">\n",
              "    <path d=\"M0 0h24v24H0V0z\" fill=\"none\"/>\n",
              "    <path d=\"M18.56 5.44l.94 2.06.94-2.06 2.06-.94-2.06-.94-.94-2.06-.94 2.06-2.06.94zm-11 1L8.5 8.5l.94-2.06 2.06-.94-2.06-.94L8.5 2.5l-.94 2.06-2.06.94zm10 10l.94 2.06.94-2.06 2.06-.94-2.06-.94-.94-2.06-.94 2.06-2.06.94z\"/><path d=\"M17.41 7.96l-1.37-1.37c-.4-.4-.92-.59-1.43-.59-.52 0-1.04.2-1.43.59L10.3 9.45l-7.72 7.72c-.78.78-.78 2.05 0 2.83L4 21.41c.39.39.9.59 1.41.59.51 0 1.02-.2 1.41-.59l7.78-7.78 2.81-2.81c.8-.78.8-2.07 0-2.86zM5.41 20L4 18.59l7.72-7.72 1.47 1.35L5.41 20z\"/>\n",
              "  </svg>\n",
              "      </button>\n",
              "      \n",
              "  <style>\n",
              "    .colab-df-container {\n",
              "      display:flex;\n",
              "      flex-wrap:wrap;\n",
              "      gap: 12px;\n",
              "    }\n",
              "\n",
              "    .colab-df-convert {\n",
              "      background-color: #E8F0FE;\n",
              "      border: none;\n",
              "      border-radius: 50%;\n",
              "      cursor: pointer;\n",
              "      display: none;\n",
              "      fill: #1967D2;\n",
              "      height: 32px;\n",
              "      padding: 0 0 0 0;\n",
              "      width: 32px;\n",
              "    }\n",
              "\n",
              "    .colab-df-convert:hover {\n",
              "      background-color: #E2EBFA;\n",
              "      box-shadow: 0px 1px 2px rgba(60, 64, 67, 0.3), 0px 1px 3px 1px rgba(60, 64, 67, 0.15);\n",
              "      fill: #174EA6;\n",
              "    }\n",
              "\n",
              "    [theme=dark] .colab-df-convert {\n",
              "      background-color: #3B4455;\n",
              "      fill: #D2E3FC;\n",
              "    }\n",
              "\n",
              "    [theme=dark] .colab-df-convert:hover {\n",
              "      background-color: #434B5C;\n",
              "      box-shadow: 0px 1px 3px 1px rgba(0, 0, 0, 0.15);\n",
              "      filter: drop-shadow(0px 1px 2px rgba(0, 0, 0, 0.3));\n",
              "      fill: #FFFFFF;\n",
              "    }\n",
              "  </style>\n",
              "\n",
              "      <script>\n",
              "        const buttonEl =\n",
              "          document.querySelector('#df-83ae374f-5f5c-439d-8667-36913f23dd54 button.colab-df-convert');\n",
              "        buttonEl.style.display =\n",
              "          google.colab.kernel.accessAllowed ? 'block' : 'none';\n",
              "\n",
              "        async function convertToInteractive(key) {\n",
              "          const element = document.querySelector('#df-83ae374f-5f5c-439d-8667-36913f23dd54');\n",
              "          const dataTable =\n",
              "            await google.colab.kernel.invokeFunction('convertToInteractive',\n",
              "                                                     [key], {});\n",
              "          if (!dataTable) return;\n",
              "\n",
              "          const docLinkHtml = 'Like what you see? Visit the ' +\n",
              "            '<a target=\"_blank\" href=https://colab.research.google.com/notebooks/data_table.ipynb>data table notebook</a>'\n",
              "            + ' to learn more about interactive tables.';\n",
              "          element.innerHTML = '';\n",
              "          dataTable['output_type'] = 'display_data';\n",
              "          await google.colab.output.renderOutput(dataTable, element);\n",
              "          const docLink = document.createElement('div');\n",
              "          docLink.innerHTML = docLinkHtml;\n",
              "          element.appendChild(docLink);\n",
              "        }\n",
              "      </script>\n",
              "    </div>\n",
              "  </div>\n",
              "  "
            ]
          },
          "metadata": {},
          "execution_count": 75
        }
      ]
    },
    {
      "cell_type": "code",
      "source": [
        "# Repositioning the dependent variable to last index\n",
        "last_column = df_train_new.pop('Loan_Status')\n",
        "df_train_new.insert(16, 'Loan_Status', last_column)\n",
        "df_train_new.head()"
      ],
      "metadata": {
        "colab": {
          "base_uri": "https://localhost:8080/",
          "height": 270
        },
        "id": "kf1FGcxoJVMH",
        "outputId": "c205ba22-3f42-4ad3-ec60-41aac83897f6"
      },
      "execution_count": 76,
      "outputs": [
        {
          "output_type": "execute_result",
          "data": {
            "text/plain": [
              "   Gender  Married  Education  Self_Employed  ApplicantIncome  \\\n",
              "1       1        1          1              0        -0.137970   \n",
              "2       1        1          1              1        -0.417536   \n",
              "3       1        1          0              0        -0.491180   \n",
              "4       1        0          1              0         0.112280   \n",
              "5       1        1          1              1         0.009319   \n",
              "\n",
              "   CoapplicantIncome  LoanAmount  Loan_Amount_Term  Credit_History  \\\n",
              "1          -0.027952   -0.208089          0.275542             1.0   \n",
              "2          -0.604633   -0.979001          0.275542             1.0   \n",
              "3           0.297100   -0.307562          0.275542             1.0   \n",
              "4          -0.604633   -0.046446          0.275542             1.0   \n",
              "5           0.999978    1.520245          0.275542             1.0   \n",
              "\n",
              "   Dependents_0  Dependents_1  Dependents_2  Dependents_3+  \\\n",
              "1             0             1             0              0   \n",
              "2             1             0             0              0   \n",
              "3             1             0             0              0   \n",
              "4             1             0             0              0   \n",
              "5             0             0             1              0   \n",
              "\n",
              "   Property_Area_Rural  Property_Area_Semiurban  Property_Area_Urban  \\\n",
              "1                    1                        0                    0   \n",
              "2                    0                        0                    1   \n",
              "3                    0                        0                    1   \n",
              "4                    0                        0                    1   \n",
              "5                    0                        0                    1   \n",
              "\n",
              "   Loan_Status  \n",
              "1            0  \n",
              "2            1  \n",
              "3            1  \n",
              "4            1  \n",
              "5            1  "
            ],
            "text/html": [
              "\n",
              "  <div id=\"df-b99b3760-0dd1-4c2f-8163-16e223d9405b\">\n",
              "    <div class=\"colab-df-container\">\n",
              "      <div>\n",
              "<style scoped>\n",
              "    .dataframe tbody tr th:only-of-type {\n",
              "        vertical-align: middle;\n",
              "    }\n",
              "\n",
              "    .dataframe tbody tr th {\n",
              "        vertical-align: top;\n",
              "    }\n",
              "\n",
              "    .dataframe thead th {\n",
              "        text-align: right;\n",
              "    }\n",
              "</style>\n",
              "<table border=\"1\" class=\"dataframe\">\n",
              "  <thead>\n",
              "    <tr style=\"text-align: right;\">\n",
              "      <th></th>\n",
              "      <th>Gender</th>\n",
              "      <th>Married</th>\n",
              "      <th>Education</th>\n",
              "      <th>Self_Employed</th>\n",
              "      <th>ApplicantIncome</th>\n",
              "      <th>CoapplicantIncome</th>\n",
              "      <th>LoanAmount</th>\n",
              "      <th>Loan_Amount_Term</th>\n",
              "      <th>Credit_History</th>\n",
              "      <th>Dependents_0</th>\n",
              "      <th>Dependents_1</th>\n",
              "      <th>Dependents_2</th>\n",
              "      <th>Dependents_3+</th>\n",
              "      <th>Property_Area_Rural</th>\n",
              "      <th>Property_Area_Semiurban</th>\n",
              "      <th>Property_Area_Urban</th>\n",
              "      <th>Loan_Status</th>\n",
              "    </tr>\n",
              "  </thead>\n",
              "  <tbody>\n",
              "    <tr>\n",
              "      <th>1</th>\n",
              "      <td>1</td>\n",
              "      <td>1</td>\n",
              "      <td>1</td>\n",
              "      <td>0</td>\n",
              "      <td>-0.137970</td>\n",
              "      <td>-0.027952</td>\n",
              "      <td>-0.208089</td>\n",
              "      <td>0.275542</td>\n",
              "      <td>1.0</td>\n",
              "      <td>0</td>\n",
              "      <td>1</td>\n",
              "      <td>0</td>\n",
              "      <td>0</td>\n",
              "      <td>1</td>\n",
              "      <td>0</td>\n",
              "      <td>0</td>\n",
              "      <td>0</td>\n",
              "    </tr>\n",
              "    <tr>\n",
              "      <th>2</th>\n",
              "      <td>1</td>\n",
              "      <td>1</td>\n",
              "      <td>1</td>\n",
              "      <td>1</td>\n",
              "      <td>-0.417536</td>\n",
              "      <td>-0.604633</td>\n",
              "      <td>-0.979001</td>\n",
              "      <td>0.275542</td>\n",
              "      <td>1.0</td>\n",
              "      <td>1</td>\n",
              "      <td>0</td>\n",
              "      <td>0</td>\n",
              "      <td>0</td>\n",
              "      <td>0</td>\n",
              "      <td>0</td>\n",
              "      <td>1</td>\n",
              "      <td>1</td>\n",
              "    </tr>\n",
              "    <tr>\n",
              "      <th>3</th>\n",
              "      <td>1</td>\n",
              "      <td>1</td>\n",
              "      <td>0</td>\n",
              "      <td>0</td>\n",
              "      <td>-0.491180</td>\n",
              "      <td>0.297100</td>\n",
              "      <td>-0.307562</td>\n",
              "      <td>0.275542</td>\n",
              "      <td>1.0</td>\n",
              "      <td>1</td>\n",
              "      <td>0</td>\n",
              "      <td>0</td>\n",
              "      <td>0</td>\n",
              "      <td>0</td>\n",
              "      <td>0</td>\n",
              "      <td>1</td>\n",
              "      <td>1</td>\n",
              "    </tr>\n",
              "    <tr>\n",
              "      <th>4</th>\n",
              "      <td>1</td>\n",
              "      <td>0</td>\n",
              "      <td>1</td>\n",
              "      <td>0</td>\n",
              "      <td>0.112280</td>\n",
              "      <td>-0.604633</td>\n",
              "      <td>-0.046446</td>\n",
              "      <td>0.275542</td>\n",
              "      <td>1.0</td>\n",
              "      <td>1</td>\n",
              "      <td>0</td>\n",
              "      <td>0</td>\n",
              "      <td>0</td>\n",
              "      <td>0</td>\n",
              "      <td>0</td>\n",
              "      <td>1</td>\n",
              "      <td>1</td>\n",
              "    </tr>\n",
              "    <tr>\n",
              "      <th>5</th>\n",
              "      <td>1</td>\n",
              "      <td>1</td>\n",
              "      <td>1</td>\n",
              "      <td>1</td>\n",
              "      <td>0.009319</td>\n",
              "      <td>0.999978</td>\n",
              "      <td>1.520245</td>\n",
              "      <td>0.275542</td>\n",
              "      <td>1.0</td>\n",
              "      <td>0</td>\n",
              "      <td>0</td>\n",
              "      <td>1</td>\n",
              "      <td>0</td>\n",
              "      <td>0</td>\n",
              "      <td>0</td>\n",
              "      <td>1</td>\n",
              "      <td>1</td>\n",
              "    </tr>\n",
              "  </tbody>\n",
              "</table>\n",
              "</div>\n",
              "      <button class=\"colab-df-convert\" onclick=\"convertToInteractive('df-b99b3760-0dd1-4c2f-8163-16e223d9405b')\"\n",
              "              title=\"Convert this dataframe to an interactive table.\"\n",
              "              style=\"display:none;\">\n",
              "        \n",
              "  <svg xmlns=\"http://www.w3.org/2000/svg\" height=\"24px\"viewBox=\"0 0 24 24\"\n",
              "       width=\"24px\">\n",
              "    <path d=\"M0 0h24v24H0V0z\" fill=\"none\"/>\n",
              "    <path d=\"M18.56 5.44l.94 2.06.94-2.06 2.06-.94-2.06-.94-.94-2.06-.94 2.06-2.06.94zm-11 1L8.5 8.5l.94-2.06 2.06-.94-2.06-.94L8.5 2.5l-.94 2.06-2.06.94zm10 10l.94 2.06.94-2.06 2.06-.94-2.06-.94-.94-2.06-.94 2.06-2.06.94z\"/><path d=\"M17.41 7.96l-1.37-1.37c-.4-.4-.92-.59-1.43-.59-.52 0-1.04.2-1.43.59L10.3 9.45l-7.72 7.72c-.78.78-.78 2.05 0 2.83L4 21.41c.39.39.9.59 1.41.59.51 0 1.02-.2 1.41-.59l7.78-7.78 2.81-2.81c.8-.78.8-2.07 0-2.86zM5.41 20L4 18.59l7.72-7.72 1.47 1.35L5.41 20z\"/>\n",
              "  </svg>\n",
              "      </button>\n",
              "      \n",
              "  <style>\n",
              "    .colab-df-container {\n",
              "      display:flex;\n",
              "      flex-wrap:wrap;\n",
              "      gap: 12px;\n",
              "    }\n",
              "\n",
              "    .colab-df-convert {\n",
              "      background-color: #E8F0FE;\n",
              "      border: none;\n",
              "      border-radius: 50%;\n",
              "      cursor: pointer;\n",
              "      display: none;\n",
              "      fill: #1967D2;\n",
              "      height: 32px;\n",
              "      padding: 0 0 0 0;\n",
              "      width: 32px;\n",
              "    }\n",
              "\n",
              "    .colab-df-convert:hover {\n",
              "      background-color: #E2EBFA;\n",
              "      box-shadow: 0px 1px 2px rgba(60, 64, 67, 0.3), 0px 1px 3px 1px rgba(60, 64, 67, 0.15);\n",
              "      fill: #174EA6;\n",
              "    }\n",
              "\n",
              "    [theme=dark] .colab-df-convert {\n",
              "      background-color: #3B4455;\n",
              "      fill: #D2E3FC;\n",
              "    }\n",
              "\n",
              "    [theme=dark] .colab-df-convert:hover {\n",
              "      background-color: #434B5C;\n",
              "      box-shadow: 0px 1px 3px 1px rgba(0, 0, 0, 0.15);\n",
              "      filter: drop-shadow(0px 1px 2px rgba(0, 0, 0, 0.3));\n",
              "      fill: #FFFFFF;\n",
              "    }\n",
              "  </style>\n",
              "\n",
              "      <script>\n",
              "        const buttonEl =\n",
              "          document.querySelector('#df-b99b3760-0dd1-4c2f-8163-16e223d9405b button.colab-df-convert');\n",
              "        buttonEl.style.display =\n",
              "          google.colab.kernel.accessAllowed ? 'block' : 'none';\n",
              "\n",
              "        async function convertToInteractive(key) {\n",
              "          const element = document.querySelector('#df-b99b3760-0dd1-4c2f-8163-16e223d9405b');\n",
              "          const dataTable =\n",
              "            await google.colab.kernel.invokeFunction('convertToInteractive',\n",
              "                                                     [key], {});\n",
              "          if (!dataTable) return;\n",
              "\n",
              "          const docLinkHtml = 'Like what you see? Visit the ' +\n",
              "            '<a target=\"_blank\" href=https://colab.research.google.com/notebooks/data_table.ipynb>data table notebook</a>'\n",
              "            + ' to learn more about interactive tables.';\n",
              "          element.innerHTML = '';\n",
              "          dataTable['output_type'] = 'display_data';\n",
              "          await google.colab.output.renderOutput(dataTable, element);\n",
              "          const docLink = document.createElement('div');\n",
              "          docLink.innerHTML = docLinkHtml;\n",
              "          element.appendChild(docLink);\n",
              "        }\n",
              "      </script>\n",
              "    </div>\n",
              "  </div>\n",
              "  "
            ]
          },
          "metadata": {},
          "execution_count": 76
        }
      ]
    },
    {
      "cell_type": "markdown",
      "source": [
        "**Now our data is proceesed for modeling**"
      ],
      "metadata": {
        "id": "rWWhlpICJtsi"
      }
    },
    {
      "cell_type": "markdown",
      "source": [
        "### **Train test split**"
      ],
      "metadata": {
        "id": "lVYLkoZaJ3xJ"
      }
    },
    {
      "cell_type": "markdown",
      "source": [
        "Since our data is only for train and another data available for testing.\n",
        "We will still go with train test split as the testing data is not labled and it is neccessary to evaluate the model on unseen data."
      ],
      "metadata": {
        "id": "lq_14aVOKf8-"
      }
    },
    {
      "cell_type": "code",
      "source": [
        "X= df_train_new.iloc[:,:-1]\n",
        "y= df_train_new.iloc[:,-1]\n",
        "from sklearn.model_selection import train_test_split \n",
        "X_train, X_test, y_train, y_test = train_test_split( X,y , test_size = 0.2, random_state = 0) \n",
        "print(X_train.shape)\n",
        "print(X_test.shape)"
      ],
      "metadata": {
        "colab": {
          "base_uri": "https://localhost:8080/"
        },
        "id": "JrxX5IY5Jp6l",
        "outputId": "2b19f6b7-aecd-43fe-ad6c-2c2ddf4dc2dd"
      },
      "execution_count": 77,
      "outputs": [
        {
          "output_type": "stream",
          "name": "stdout",
          "text": [
            "(384, 16)\n",
            "(96, 16)\n"
          ]
        }
      ]
    },
    {
      "cell_type": "code",
      "source": [
        "y_train.value_counts()"
      ],
      "metadata": {
        "colab": {
          "base_uri": "https://localhost:8080/"
        },
        "id": "cOkh3iI8KEzG",
        "outputId": "7badbf45-c469-4e75-82c2-0e8555209e53"
      },
      "execution_count": 78,
      "outputs": [
        {
          "output_type": "execute_result",
          "data": {
            "text/plain": [
              "1    271\n",
              "0    113\n",
              "Name: Loan_Status, dtype: int64"
            ]
          },
          "metadata": {},
          "execution_count": 78
        }
      ]
    },
    {
      "cell_type": "code",
      "source": [
        "y_test.value_counts()"
      ],
      "metadata": {
        "colab": {
          "base_uri": "https://localhost:8080/"
        },
        "id": "VYJLDDzoKJm9",
        "outputId": "ef7462f1-62d7-41d1-d154-a32dcdea7964"
      },
      "execution_count": 79,
      "outputs": [
        {
          "output_type": "execute_result",
          "data": {
            "text/plain": [
              "1    61\n",
              "0    35\n",
              "Name: Loan_Status, dtype: int64"
            ]
          },
          "metadata": {},
          "execution_count": 79
        }
      ]
    },
    {
      "cell_type": "markdown",
      "source": [
        "## <b>Fitting logistic regression on train data"
      ],
      "metadata": {
        "id": "_XSE8QKgLG8P"
      }
    },
    {
      "cell_type": "code",
      "source": [
        "#Importing and fitting Logistic regression\n",
        "from sklearn.linear_model import LogisticRegression\n",
        "\n",
        "lr = LogisticRegression(fit_intercept=True, max_iter=10000,random_state=0)\n",
        "lr.fit(X_train, y_train)"
      ],
      "metadata": {
        "colab": {
          "base_uri": "https://localhost:8080/"
        },
        "id": "bCpF6jpOKLMi",
        "outputId": "520580a1-7625-44b7-8897-d933a7860b40"
      },
      "execution_count": 80,
      "outputs": [
        {
          "output_type": "execute_result",
          "data": {
            "text/plain": [
              "LogisticRegression(max_iter=10000, random_state=0)"
            ]
          },
          "metadata": {},
          "execution_count": 80
        }
      ]
    },
    {
      "cell_type": "code",
      "source": [
        "# Get the model coefficients\n",
        "lr.coef_"
      ],
      "metadata": {
        "colab": {
          "base_uri": "https://localhost:8080/"
        },
        "id": "pj1e1XTULNDE",
        "outputId": "5732f046-2251-4eeb-8835-cbd64d83acad"
      },
      "execution_count": 81,
      "outputs": [
        {
          "output_type": "execute_result",
          "data": {
            "text/plain": [
              "array([[ 0.23272114,  0.57128602,  0.26384918, -0.24617035,  0.15924191,\n",
              "        -0.14703758, -0.19280038, -0.16392914,  2.97399665, -0.18202629,\n",
              "        -0.27741114,  0.17256535,  0.28601466, -0.30275813,  0.64592912,\n",
              "        -0.3440284 ]])"
            ]
          },
          "metadata": {},
          "execution_count": 81
        }
      ]
    },
    {
      "cell_type": "code",
      "source": [
        "#model intercept\n",
        "lr.intercept_"
      ],
      "metadata": {
        "colab": {
          "base_uri": "https://localhost:8080/"
        },
        "id": "-UxSGL9HLPZm",
        "outputId": "c1accd06-0326-4657-d184-ae2c2db5d3de"
      },
      "execution_count": 82,
      "outputs": [
        {
          "output_type": "execute_result",
          "data": {
            "text/plain": [
              "array([-2.1943974])"
            ]
          },
          "metadata": {},
          "execution_count": 82
        }
      ]
    },
    {
      "cell_type": "markdown",
      "source": [
        "## <b>Evaluating the performance of the trained model"
      ],
      "metadata": {
        "id": "24nYKS0wLWuG"
      }
    },
    {
      "cell_type": "code",
      "source": [
        "# Get the predicted probabilities\n",
        "train_preds = lr.predict_proba(X_train)\n",
        "test_preds = lr.predict_proba(X_test)"
      ],
      "metadata": {
        "id": "z4I5NEYwLSOk"
      },
      "execution_count": 83,
      "outputs": []
    },
    {
      "cell_type": "code",
      "source": [
        "test_preds"
      ],
      "metadata": {
        "colab": {
          "base_uri": "https://localhost:8080/"
        },
        "id": "z4wfzZVSLZJd",
        "outputId": "d9f75b49-5a06-4086-9f19-58a487493891"
      },
      "execution_count": 84,
      "outputs": [
        {
          "output_type": "execute_result",
          "data": {
            "text/plain": [
              "array([[0.23916396, 0.76083604],\n",
              "       [0.24506751, 0.75493249],\n",
              "       [0.04933527, 0.95066473],\n",
              "       [0.20146124, 0.79853876],\n",
              "       [0.2347122 , 0.7652878 ],\n",
              "       [0.05817427, 0.94182573],\n",
              "       [0.17668886, 0.82331114],\n",
              "       [0.21352909, 0.78647091],\n",
              "       [0.39015173, 0.60984827],\n",
              "       [0.1902079 , 0.8097921 ],\n",
              "       [0.20590091, 0.79409909],\n",
              "       [0.184445  , 0.815555  ],\n",
              "       [0.80677694, 0.19322306],\n",
              "       [0.23024539, 0.76975461],\n",
              "       [0.23674387, 0.76325613],\n",
              "       [0.32409412, 0.67590588],\n",
              "       [0.08612609, 0.91387391],\n",
              "       [0.20502754, 0.79497246],\n",
              "       [0.71006169, 0.28993831],\n",
              "       [0.05818474, 0.94181526],\n",
              "       [0.16546532, 0.83453468],\n",
              "       [0.1191243 , 0.8808757 ],\n",
              "       [0.16412334, 0.83587666],\n",
              "       [0.14471253, 0.85528747],\n",
              "       [0.49082632, 0.50917368],\n",
              "       [0.37484189, 0.62515811],\n",
              "       [0.20042593, 0.79957407],\n",
              "       [0.07289182, 0.92710818],\n",
              "       [0.10696878, 0.89303122],\n",
              "       [0.27313905, 0.72686095],\n",
              "       [0.07661587, 0.92338413],\n",
              "       [0.07911086, 0.92088914],\n",
              "       [0.32357856, 0.67642144],\n",
              "       [0.24855278, 0.75144722],\n",
              "       [0.25736849, 0.74263151],\n",
              "       [0.10330185, 0.89669815],\n",
              "       [0.27934665, 0.72065335],\n",
              "       [0.23504431, 0.76495569],\n",
              "       [0.37235234, 0.62764766],\n",
              "       [0.82612173, 0.17387827],\n",
              "       [0.25597195, 0.74402805],\n",
              "       [0.07027974, 0.92972026],\n",
              "       [0.21138903, 0.78861097],\n",
              "       [0.30656929, 0.69343071],\n",
              "       [0.12859877, 0.87140123],\n",
              "       [0.22422238, 0.77577762],\n",
              "       [0.19222405, 0.80777595],\n",
              "       [0.33904961, 0.66095039],\n",
              "       [0.21169609, 0.78830391],\n",
              "       [0.12783677, 0.87216323],\n",
              "       [0.21562742, 0.78437258],\n",
              "       [0.1003408 , 0.8996592 ],\n",
              "       [0.39205576, 0.60794424],\n",
              "       [0.10298106, 0.89701894],\n",
              "       [0.34917087, 0.65082913],\n",
              "       [0.31848606, 0.68151394],\n",
              "       [0.46697536, 0.53302464],\n",
              "       [0.83005638, 0.16994362],\n",
              "       [0.84749511, 0.15250489],\n",
              "       [0.82240763, 0.17759237],\n",
              "       [0.08938059, 0.91061941],\n",
              "       [0.38214865, 0.61785135],\n",
              "       [0.62202628, 0.37797372],\n",
              "       [0.1124887 , 0.8875113 ],\n",
              "       [0.29371977, 0.70628023],\n",
              "       [0.12829643, 0.87170357],\n",
              "       [0.30152976, 0.69847024],\n",
              "       [0.12669798, 0.87330202],\n",
              "       [0.07601492, 0.92398508],\n",
              "       [0.06068026, 0.93931974],\n",
              "       [0.05461916, 0.94538084],\n",
              "       [0.10209121, 0.89790879],\n",
              "       [0.20592351, 0.79407649],\n",
              "       [0.56190874, 0.43809126],\n",
              "       [0.19828342, 0.80171658],\n",
              "       [0.20171019, 0.79828981],\n",
              "       [0.11960918, 0.88039082],\n",
              "       [0.25602438, 0.74397562],\n",
              "       [0.18013843, 0.81986157],\n",
              "       [0.37225288, 0.62774712],\n",
              "       [0.21781716, 0.78218284],\n",
              "       [0.10365239, 0.89634761],\n",
              "       [0.29076172, 0.70923828],\n",
              "       [0.59602673, 0.40397327],\n",
              "       [0.39435357, 0.60564643],\n",
              "       [0.40070233, 0.59929767],\n",
              "       [0.88224869, 0.11775131],\n",
              "       [0.22235351, 0.77764649],\n",
              "       [0.1765423 , 0.8234577 ],\n",
              "       [0.75247369, 0.24752631],\n",
              "       [0.20366031, 0.79633969],\n",
              "       [0.85207477, 0.14792523],\n",
              "       [0.3873617 , 0.6126383 ],\n",
              "       [0.12318258, 0.87681742],\n",
              "       [0.06667711, 0.93332289],\n",
              "       [0.17440779, 0.82559221]])"
            ]
          },
          "metadata": {},
          "execution_count": 84
        }
      ]
    },
    {
      "cell_type": "code",
      "source": [
        "# Get the predicted classes\n",
        "train_class_preds = lr.predict(X_train)\n",
        "test_class_preds = lr.predict(X_test)"
      ],
      "metadata": {
        "id": "76_g5dWiLcZg"
      },
      "execution_count": 86,
      "outputs": []
    },
    {
      "cell_type": "code",
      "source": [
        "train_class_preds"
      ],
      "metadata": {
        "colab": {
          "base_uri": "https://localhost:8080/"
        },
        "id": "vWSO3g8wLpP1",
        "outputId": "9ad66d91-a485-415f-e1de-2e622cb700b6"
      },
      "execution_count": 87,
      "outputs": [
        {
          "output_type": "execute_result",
          "data": {
            "text/plain": [
              "array([1, 1, 1, 1, 1, 1, 1, 1, 1, 1, 0, 1, 1, 1, 1, 1, 0, 1, 1, 1, 1, 1,\n",
              "       0, 1, 1, 1, 1, 1, 1, 0, 1, 0, 1, 1, 1, 1, 1, 1, 1, 1, 1, 1, 1, 1,\n",
              "       1, 1, 0, 1, 1, 1, 1, 1, 1, 1, 1, 1, 1, 1, 1, 0, 0, 1, 1, 1, 1, 1,\n",
              "       1, 1, 0, 0, 1, 0, 1, 1, 1, 1, 1, 1, 1, 1, 0, 0, 0, 1, 1, 1, 1, 1,\n",
              "       1, 1, 1, 1, 1, 0, 1, 1, 1, 1, 1, 1, 1, 0, 1, 1, 0, 0, 1, 1, 1, 1,\n",
              "       1, 1, 1, 1, 1, 1, 1, 1, 1, 1, 1, 1, 0, 1, 1, 1, 1, 1, 1, 1, 1, 1,\n",
              "       1, 1, 1, 1, 1, 1, 1, 0, 1, 1, 0, 1, 1, 1, 1, 1, 1, 1, 1, 1, 1, 1,\n",
              "       0, 0, 0, 1, 1, 1, 0, 1, 1, 1, 1, 1, 1, 0, 1, 0, 1, 1, 1, 1, 1, 1,\n",
              "       1, 1, 1, 1, 1, 1, 1, 1, 1, 1, 1, 1, 1, 1, 1, 1, 1, 1, 1, 1, 1, 0,\n",
              "       1, 1, 1, 1, 1, 1, 1, 1, 0, 1, 1, 1, 0, 1, 1, 1, 0, 1, 1, 1, 1, 1,\n",
              "       1, 1, 1, 1, 1, 1, 1, 1, 0, 1, 1, 1, 1, 1, 1, 1, 1, 1, 1, 0, 1, 1,\n",
              "       1, 1, 1, 1, 1, 1, 1, 1, 0, 1, 0, 1, 1, 1, 1, 1, 1, 1, 0, 0, 1, 1,\n",
              "       1, 1, 0, 1, 1, 1, 1, 1, 1, 1, 1, 1, 0, 1, 1, 1, 1, 1, 1, 1, 1, 1,\n",
              "       1, 1, 1, 1, 1, 1, 1, 0, 1, 1, 1, 1, 0, 1, 1, 0, 1, 1, 1, 1, 1, 1,\n",
              "       1, 1, 1, 0, 1, 1, 1, 1, 1, 1, 1, 0, 0, 1, 0, 1, 1, 1, 0, 1, 1, 1,\n",
              "       1, 1, 1, 1, 1, 1, 1, 1, 1, 1, 0, 1, 1, 1, 1, 1, 1, 1, 0, 0, 1, 1,\n",
              "       0, 0, 1, 1, 1, 1, 1, 0, 1, 1, 1, 1, 1, 1, 1, 1, 1, 1, 1, 1, 1, 0,\n",
              "       1, 1, 1, 0, 1, 0, 1, 1, 1, 0])"
            ]
          },
          "metadata": {},
          "execution_count": 87
        }
      ]
    },
    {
      "cell_type": "markdown",
      "source": [
        "### **Accuracy Score**"
      ],
      "metadata": {
        "id": "-1ZgzDInLu_p"
      }
    },
    {
      "cell_type": "code",
      "source": [
        "from sklearn.metrics import accuracy_score, confusion_matrix ,classification_report\n",
        "# Get the accuracy scores\n",
        "train_accuracy = accuracy_score(train_class_preds,y_train)\n",
        "test_accuracy = accuracy_score(test_class_preds,y_test)\n",
        "\n",
        "print(\"The accuracy on train data is \", train_accuracy)\n",
        "print(\"The accuracy on test data is \", test_accuracy)"
      ],
      "metadata": {
        "colab": {
          "base_uri": "https://localhost:8080/"
        },
        "id": "9M7roPDmLrZI",
        "outputId": "8b54744d-69d2-4822-91f8-5847987a1409"
      },
      "execution_count": 88,
      "outputs": [
        {
          "output_type": "stream",
          "name": "stdout",
          "text": [
            "The accuracy on train data is  0.8229166666666666\n",
            "The accuracy on test data is  0.7604166666666666\n"
          ]
        }
      ]
    },
    {
      "cell_type": "code",
      "source": [
        "# Other evaluation metrics for train data\n",
        "print(classification_report(train_class_preds,y_train))"
      ],
      "metadata": {
        "colab": {
          "base_uri": "https://localhost:8080/"
        },
        "id": "_EFq0OJKLzxZ",
        "outputId": "acf72611-2423-4ea5-84bc-f668809a09f1"
      },
      "execution_count": 89,
      "outputs": [
        {
          "output_type": "stream",
          "name": "stdout",
          "text": [
            "              precision    recall  f1-score   support\n",
            "\n",
            "           0       0.45      0.89      0.60        57\n",
            "           1       0.98      0.81      0.89       327\n",
            "\n",
            "    accuracy                           0.82       384\n",
            "   macro avg       0.71      0.85      0.74       384\n",
            "weighted avg       0.90      0.82      0.84       384\n",
            "\n"
          ]
        }
      ]
    },
    {
      "cell_type": "code",
      "source": [
        "# Other evaluation metrics for train data\n",
        "print(classification_report(y_test,test_class_preds))"
      ],
      "metadata": {
        "colab": {
          "base_uri": "https://localhost:8080/"
        },
        "id": "PIHzW0QXL2sU",
        "outputId": "4c74c5b1-3a27-4262-af74-0762d7e46f91"
      },
      "execution_count": 90,
      "outputs": [
        {
          "output_type": "stream",
          "name": "stdout",
          "text": [
            "              precision    recall  f1-score   support\n",
            "\n",
            "           0       1.00      0.34      0.51        35\n",
            "           1       0.73      1.00      0.84        61\n",
            "\n",
            "    accuracy                           0.76        96\n",
            "   macro avg       0.86      0.67      0.68        96\n",
            "weighted avg       0.83      0.76      0.72        96\n",
            "\n"
          ]
        }
      ]
    },
    {
      "cell_type": "markdown",
      "source": [
        "### **Confusion Matrix on trained data**"
      ],
      "metadata": {
        "id": "eVT78k39MRap"
      }
    },
    {
      "cell_type": "code",
      "source": [
        "# Get the confusion matrix for trained data\n",
        "\n",
        "labels = ['approved', 'Notapproved']\n",
        "cm = confusion_matrix(y_train, train_class_preds)\n",
        "print(cm)\n",
        "\n",
        "ax= plt.subplot()\n",
        "sns.heatmap(cm, annot=True, ax = ax) #annot=True to annotate cells\n",
        "\n",
        "# labels, title and ticks\n",
        "ax.set_xlabel('Predicted labels')\n",
        "ax.set_ylabel('True labels')\n",
        "ax.set_title('Confusion Matrix')\n",
        "ax.xaxis.set_ticklabels(labels)\n",
        "ax.yaxis.set_ticklabels(labels)"
      ],
      "metadata": {
        "colab": {
          "base_uri": "https://localhost:8080/",
          "height": 349
        },
        "id": "u0KIjcCnL6_B",
        "outputId": "e56899c5-017a-4d6b-8fc2-5cac05ee0893"
      },
      "execution_count": 92,
      "outputs": [
        {
          "output_type": "stream",
          "name": "stdout",
          "text": [
            "[[ 51  62]\n",
            " [  6 265]]\n"
          ]
        },
        {
          "output_type": "execute_result",
          "data": {
            "text/plain": [
              "[Text(0, 0.5, 'approved'), Text(0, 1.5, 'Notapproved')]"
            ]
          },
          "metadata": {},
          "execution_count": 92
        },
        {
          "output_type": "display_data",
          "data": {
            "text/plain": [
              "<Figure size 432x288 with 2 Axes>"
            ],
            "image/png": "[encoded data removed]"
          },
          "metadata": {
            "needs_background": "light"
          }
        }
      ]
    },
    {
      "cell_type": "markdown",
      "source": [
        "### **Confusion Matrix on test data**"
      ],
      "metadata": {
        "id": "jWszzrlZM85K"
      }
    },
    {
      "cell_type": "code",
      "source": [
        "# Get the confusion matrix for test data\n",
        "\n",
        "labels = ['approved', 'Notapproved']\n",
        "cm = confusion_matrix(y_test, test_class_preds)\n",
        "print(cm)\n",
        "\n",
        "ax= plt.subplot()\n",
        "sns.heatmap(cm, annot=True, ax = ax); #annot=True to annotate cells\n",
        "\n",
        "# labels, title and ticks\n",
        "ax.set_xlabel('Predicted labels')\n",
        "ax.set_ylabel('True labels')\n",
        "ax.set_title('Confusion Matrix')\n",
        "ax.xaxis.set_ticklabels(labels)\n",
        "ax.yaxis.set_ticklabels(labels)"
      ],
      "metadata": {
        "colab": {
          "base_uri": "https://localhost:8080/",
          "height": 349
        },
        "id": "VMn8wUEuMmYb",
        "outputId": "e851ffd1-5a92-4e36-8740-0810f3e40ee1"
      },
      "execution_count": 94,
      "outputs": [
        {
          "output_type": "stream",
          "name": "stdout",
          "text": [
            "[[12 23]\n",
            " [ 0 61]]\n"
          ]
        },
        {
          "output_type": "execute_result",
          "data": {
            "text/plain": [
              "[Text(0, 0.5, 'approved'), Text(0, 1.5, 'Notapproved')]"
            ]
          },
          "metadata": {},
          "execution_count": 94
        },
        {
          "output_type": "display_data",
          "data": {
            "text/plain": [
              "<Figure size 432x288 with 2 Axes>"
            ],
            "image/png": "[encoded data removed]"
          },
          "metadata": {
            "needs_background": "light"
          }
        }
      ]
    },
    {
      "cell_type": "code",
      "source": [],
      "metadata": {
        "id": "MXNgVAZqNBie"
      },
      "execution_count": null,
      "outputs": []
    }
  ]
}